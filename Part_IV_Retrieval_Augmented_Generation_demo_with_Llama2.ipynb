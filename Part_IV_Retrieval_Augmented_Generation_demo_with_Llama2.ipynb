{
  "nbformat": 4,
  "nbformat_minor": 0,
  "metadata": {
    "colab": {
      "provenance": [],
      "gpuType": "T4",
      "include_colab_link": true
    },
    "kernelspec": {
      "name": "python3",
      "display_name": "Python 3"
    },
    "language_info": {
      "name": "python"
    },
    "accelerator": "GPU"
  },
  "cells": [
    {
      "cell_type": "markdown",
      "metadata": {
        "id": "view-in-github",
        "colab_type": "text"
      },
      "source": [
        "<a href=\"https://colab.research.google.com/github/HansHenseler/DFRWS-APAC-LLM-Workshop/blob/main/Part_IV_Retrieval_Augmented_Generation_demo_with_Llama2.ipynb\" target=\"_parent\"><img src=\"https://colab.research.google.com/assets/colab-badge.svg\" alt=\"Open In Colab\"/></a>"
      ]
    },
    {
      "cell_type": "markdown",
      "source": [
        "****************************************************\n",
        "####################################################\n",
        "\n",
        "**Stage 1:\n",
        "Download a PDF file and create vector store**\n",
        "####################################################\n",
        "****************************************************"
      ],
      "metadata": {
        "id": "9-6E42wqQhUO"
      }
    },
    {
      "cell_type": "code",
      "source": [
        "# GET GPU FIRST !!!!!\n",
        "# T4 GPU\n",
        "\n",
        "# first we download a/some pdf files\n",
        "# For simplicity, we just download and process one pdf file. You can create a folder and place your pdf files there.\n",
        "\n",
        "!wget https://github.com/HK-Victor-AI/APAC-2023-Workshop/raw/main/criminal_procedure_code.pdf -O criminal_procedure_code.pdf"
      ],
      "metadata": {
        "colab": {
          "base_uri": "https://localhost:8080/"
        },
        "id": "BzUGXTL01-5u",
        "outputId": "0c8bb184-2957-4be5-d5e6-c580270a6acd"
      },
      "execution_count": null,
      "outputs": [
        {
          "output_type": "stream",
          "name": "stdout",
          "text": [
            "--2023-10-08 15:05:18--  https://github.com/HK-Victor-AI/APAC-2023-Workshop/raw/main/criminal_procedure_code.pdf\n",
            "Resolving github.com (github.com)... 192.30.255.113\n",
            "Connecting to github.com (github.com)|192.30.255.113|:443... connected.\n",
            "HTTP request sent, awaiting response... 302 Found\n",
            "Location: https://raw.githubusercontent.com/HK-Victor-AI/APAC-2023-Workshop/main/criminal_procedure_code.pdf [following]\n",
            "--2023-10-08 15:05:19--  https://raw.githubusercontent.com/HK-Victor-AI/APAC-2023-Workshop/main/criminal_procedure_code.pdf\n",
            "Resolving raw.githubusercontent.com (raw.githubusercontent.com)... 185.199.108.133, 185.199.109.133, 185.199.110.133, ...\n",
            "Connecting to raw.githubusercontent.com (raw.githubusercontent.com)|185.199.108.133|:443... connected.\n",
            "HTTP request sent, awaiting response... 200 OK\n",
            "Length: 1574942 (1.5M) [application/octet-stream]\n",
            "Saving to: ‘criminal_procedure_code.pdf’\n",
            "\n",
            "criminal_procedure_ 100%[===================>]   1.50M  --.-KB/s    in 0.04s   \n",
            "\n",
            "2023-10-08 15:05:19 (41.9 MB/s) - ‘criminal_procedure_code.pdf’ saved [1574942/1574942]\n",
            "\n"
          ]
        }
      ]
    },
    {
      "cell_type": "code",
      "source": [
        "!ls -l"
      ],
      "metadata": {
        "colab": {
          "base_uri": "https://localhost:8080/"
        },
        "id": "lx5ZxOoq2Ywu",
        "outputId": "3fe83615-c444-4dff-e4a6-9c58d95ffe5d"
      },
      "execution_count": null,
      "outputs": [
        {
          "output_type": "stream",
          "name": "stdout",
          "text": [
            "total 1544\n",
            "-rw-r--r-- 1 root root 1574942 Oct  8 15:05 criminal_procedure_code.pdf\n",
            "drwxr-xr-x 1 root root    4096 Oct  5 19:33 sample_data\n"
          ]
        }
      ]
    },
    {
      "cell_type": "code",
      "execution_count": null,
      "metadata": {
        "id": "Mb8jVmr5p43h",
        "colab": {
          "base_uri": "https://localhost:8080/"
        },
        "outputId": "58e5e00f-37d0-45fe-8700-900cd89bd10d"
      },
      "outputs": [
        {
          "output_type": "stream",
          "name": "stdout",
          "text": [
            "Collecting langchain==0.0.310\n",
            "  Downloading langchain-0.0.310-py3-none-any.whl (1.8 MB)\n",
            "\u001b[2K     \u001b[90m━━━━━━━━━━━━━━━━━━━━━━━━━━━━━━━━━━━━━━━━\u001b[0m \u001b[32m1.8/1.8 MB\u001b[0m \u001b[31m9.9 MB/s\u001b[0m eta \u001b[36m0:00:00\u001b[0m\n",
            "\u001b[?25hRequirement already satisfied: PyYAML>=5.3 in /usr/local/lib/python3.10/dist-packages (from langchain==0.0.310) (6.0.1)\n",
            "Requirement already satisfied: SQLAlchemy<3,>=1.4 in /usr/local/lib/python3.10/dist-packages (from langchain==0.0.310) (2.0.21)\n",
            "Requirement already satisfied: aiohttp<4.0.0,>=3.8.3 in /usr/local/lib/python3.10/dist-packages (from langchain==0.0.310) (3.8.5)\n",
            "Requirement already satisfied: anyio<4.0 in /usr/local/lib/python3.10/dist-packages (from langchain==0.0.310) (3.7.1)\n",
            "Requirement already satisfied: async-timeout<5.0.0,>=4.0.0 in /usr/local/lib/python3.10/dist-packages (from langchain==0.0.310) (4.0.3)\n",
            "Collecting dataclasses-json<0.7,>=0.5.7 (from langchain==0.0.310)\n",
            "  Downloading dataclasses_json-0.6.1-py3-none-any.whl (27 kB)\n",
            "Collecting jsonpatch<2.0,>=1.33 (from langchain==0.0.310)\n",
            "  Downloading jsonpatch-1.33-py2.py3-none-any.whl (12 kB)\n",
            "Collecting langsmith<0.1.0,>=0.0.40 (from langchain==0.0.310)\n",
            "  Downloading langsmith-0.0.43-py3-none-any.whl (40 kB)\n",
            "\u001b[2K     \u001b[90m━━━━━━━━━━━━━━━━━━━━━━━━━━━━━━━━━━━━━━━━\u001b[0m \u001b[32m40.0/40.0 kB\u001b[0m \u001b[31m5.5 MB/s\u001b[0m eta \u001b[36m0:00:00\u001b[0m\n",
            "\u001b[?25hRequirement already satisfied: numpy<2,>=1 in /usr/local/lib/python3.10/dist-packages (from langchain==0.0.310) (1.23.5)\n",
            "Requirement already satisfied: pydantic<3,>=1 in /usr/local/lib/python3.10/dist-packages (from langchain==0.0.310) (1.10.13)\n",
            "Requirement already satisfied: requests<3,>=2 in /usr/local/lib/python3.10/dist-packages (from langchain==0.0.310) (2.31.0)\n",
            "Requirement already satisfied: tenacity<9.0.0,>=8.1.0 in /usr/local/lib/python3.10/dist-packages (from langchain==0.0.310) (8.2.3)\n",
            "Requirement already satisfied: attrs>=17.3.0 in /usr/local/lib/python3.10/dist-packages (from aiohttp<4.0.0,>=3.8.3->langchain==0.0.310) (23.1.0)\n",
            "Requirement already satisfied: charset-normalizer<4.0,>=2.0 in /usr/local/lib/python3.10/dist-packages (from aiohttp<4.0.0,>=3.8.3->langchain==0.0.310) (3.3.0)\n",
            "Requirement already satisfied: multidict<7.0,>=4.5 in /usr/local/lib/python3.10/dist-packages (from aiohttp<4.0.0,>=3.8.3->langchain==0.0.310) (6.0.4)\n",
            "Requirement already satisfied: yarl<2.0,>=1.0 in /usr/local/lib/python3.10/dist-packages (from aiohttp<4.0.0,>=3.8.3->langchain==0.0.310) (1.9.2)\n",
            "Requirement already satisfied: frozenlist>=1.1.1 in /usr/local/lib/python3.10/dist-packages (from aiohttp<4.0.0,>=3.8.3->langchain==0.0.310) (1.4.0)\n",
            "Requirement already satisfied: aiosignal>=1.1.2 in /usr/local/lib/python3.10/dist-packages (from aiohttp<4.0.0,>=3.8.3->langchain==0.0.310) (1.3.1)\n",
            "Requirement already satisfied: idna>=2.8 in /usr/local/lib/python3.10/dist-packages (from anyio<4.0->langchain==0.0.310) (3.4)\n",
            "Requirement already satisfied: sniffio>=1.1 in /usr/local/lib/python3.10/dist-packages (from anyio<4.0->langchain==0.0.310) (1.3.0)\n",
            "Requirement already satisfied: exceptiongroup in /usr/local/lib/python3.10/dist-packages (from anyio<4.0->langchain==0.0.310) (1.1.3)\n",
            "Collecting marshmallow<4.0.0,>=3.18.0 (from dataclasses-json<0.7,>=0.5.7->langchain==0.0.310)\n",
            "  Downloading marshmallow-3.20.1-py3-none-any.whl (49 kB)\n",
            "\u001b[2K     \u001b[90m━━━━━━━━━━━━━━━━━━━━━━━━━━━━━━━━━━━━━━━━\u001b[0m \u001b[32m49.4/49.4 kB\u001b[0m \u001b[31m7.1 MB/s\u001b[0m eta \u001b[36m0:00:00\u001b[0m\n",
            "\u001b[?25hCollecting typing-inspect<1,>=0.4.0 (from dataclasses-json<0.7,>=0.5.7->langchain==0.0.310)\n",
            "  Downloading typing_inspect-0.9.0-py3-none-any.whl (8.8 kB)\n",
            "Collecting jsonpointer>=1.9 (from jsonpatch<2.0,>=1.33->langchain==0.0.310)\n",
            "  Downloading jsonpointer-2.4-py2.py3-none-any.whl (7.8 kB)\n",
            "Requirement already satisfied: typing-extensions>=4.2.0 in /usr/local/lib/python3.10/dist-packages (from pydantic<3,>=1->langchain==0.0.310) (4.5.0)\n",
            "Requirement already satisfied: urllib3<3,>=1.21.1 in /usr/local/lib/python3.10/dist-packages (from requests<3,>=2->langchain==0.0.310) (2.0.6)\n",
            "Requirement already satisfied: certifi>=2017.4.17 in /usr/local/lib/python3.10/dist-packages (from requests<3,>=2->langchain==0.0.310) (2023.7.22)\n",
            "Requirement already satisfied: greenlet!=0.4.17 in /usr/local/lib/python3.10/dist-packages (from SQLAlchemy<3,>=1.4->langchain==0.0.310) (3.0.0)\n",
            "Requirement already satisfied: packaging>=17.0 in /usr/local/lib/python3.10/dist-packages (from marshmallow<4.0.0,>=3.18.0->dataclasses-json<0.7,>=0.5.7->langchain==0.0.310) (23.2)\n",
            "Collecting mypy-extensions>=0.3.0 (from typing-inspect<1,>=0.4.0->dataclasses-json<0.7,>=0.5.7->langchain==0.0.310)\n",
            "  Downloading mypy_extensions-1.0.0-py3-none-any.whl (4.7 kB)\n",
            "Installing collected packages: mypy-extensions, marshmallow, jsonpointer, typing-inspect, langsmith, jsonpatch, dataclasses-json, langchain\n",
            "Successfully installed dataclasses-json-0.6.1 jsonpatch-1.33 jsonpointer-2.4 langchain-0.0.310 langsmith-0.0.43 marshmallow-3.20.1 mypy-extensions-1.0.0 typing-inspect-0.9.0\n",
            "Collecting llama-cpp-python==0.2.11\n",
            "  Downloading llama_cpp_python-0.2.11.tar.gz (3.6 MB)\n",
            "\u001b[2K     \u001b[90m━━━━━━━━━━━━━━━━━━━━━━━━━━━━━━━━━━━━━━━━\u001b[0m \u001b[32m3.6/3.6 MB\u001b[0m \u001b[31m13.6 MB/s\u001b[0m eta \u001b[36m0:00:00\u001b[0m\n",
            "\u001b[?25h  Installing build dependencies ... \u001b[?25l\u001b[?25hdone\n",
            "  Getting requirements to build wheel ... \u001b[?25l\u001b[?25hdone\n",
            "  Installing backend dependencies ... \u001b[?25l\u001b[?25hdone\n",
            "  Preparing metadata (pyproject.toml) ... \u001b[?25l\u001b[?25hdone\n",
            "Requirement already satisfied: typing-extensions>=4.5.0 in /usr/local/lib/python3.10/dist-packages (from llama-cpp-python==0.2.11) (4.5.0)\n",
            "Requirement already satisfied: numpy>=1.20.0 in /usr/local/lib/python3.10/dist-packages (from llama-cpp-python==0.2.11) (1.23.5)\n",
            "Collecting diskcache>=5.6.1 (from llama-cpp-python==0.2.11)\n",
            "  Downloading diskcache-5.6.3-py3-none-any.whl (45 kB)\n",
            "\u001b[2K     \u001b[90m━━━━━━━━━━━━━━━━━━━━━━━━━━━━━━━━━━━━━━━━\u001b[0m \u001b[32m45.5/45.5 kB\u001b[0m \u001b[31m6.5 MB/s\u001b[0m eta \u001b[36m0:00:00\u001b[0m\n",
            "\u001b[?25hBuilding wheels for collected packages: llama-cpp-python\n",
            "  Building wheel for llama-cpp-python (pyproject.toml) ... \u001b[?25l\u001b[?25hdone\n",
            "  Created wheel for llama-cpp-python: filename=llama_cpp_python-0.2.11-cp310-cp310-manylinux_2_35_x86_64.whl size=6423427 sha256=a7020a70ffccdf3f7841649de207a84dddb0b33b20fd970c17796b331e0139c0\n",
            "  Stored in directory: /root/.cache/pip/wheels/dc/42/77/a3ab0d02700427ea364de5797786c0272779dce795f62c3bc2\n",
            "Successfully built llama-cpp-python\n",
            "Installing collected packages: diskcache, llama-cpp-python\n",
            "Successfully installed diskcache-5.6.3 llama-cpp-python-0.2.11\n",
            "Collecting sentence-transformers==2.2.2\n",
            "  Downloading sentence-transformers-2.2.2.tar.gz (85 kB)\n",
            "\u001b[2K     \u001b[90m━━━━━━━━━━━━━━━━━━━━━━━━━━━━━━━━━━━━━━━━\u001b[0m \u001b[32m86.0/86.0 kB\u001b[0m \u001b[31m2.8 MB/s\u001b[0m eta \u001b[36m0:00:00\u001b[0m\n",
            "\u001b[?25h  Preparing metadata (setup.py) ... \u001b[?25l\u001b[?25hdone\n",
            "Collecting transformers<5.0.0,>=4.6.0 (from sentence-transformers==2.2.2)\n",
            "  Downloading transformers-4.34.0-py3-none-any.whl (7.7 MB)\n",
            "\u001b[2K     \u001b[90m━━━━━━━━━━━━━━━━━━━━━━━━━━━━━━━━━━━━━━━━\u001b[0m \u001b[32m7.7/7.7 MB\u001b[0m \u001b[31m75.4 MB/s\u001b[0m eta \u001b[36m0:00:00\u001b[0m\n",
            "\u001b[?25hRequirement already satisfied: tqdm in /usr/local/lib/python3.10/dist-packages (from sentence-transformers==2.2.2) (4.66.1)\n",
            "Requirement already satisfied: torch>=1.6.0 in /usr/local/lib/python3.10/dist-packages (from sentence-transformers==2.2.2) (2.0.1+cu118)\n",
            "Requirement already satisfied: torchvision in /usr/local/lib/python3.10/dist-packages (from sentence-transformers==2.2.2) (0.15.2+cu118)\n",
            "Requirement already satisfied: numpy in /usr/local/lib/python3.10/dist-packages (from sentence-transformers==2.2.2) (1.23.5)\n",
            "Requirement already satisfied: scikit-learn in /usr/local/lib/python3.10/dist-packages (from sentence-transformers==2.2.2) (1.2.2)\n",
            "Requirement already satisfied: scipy in /usr/local/lib/python3.10/dist-packages (from sentence-transformers==2.2.2) (1.11.3)\n",
            "Requirement already satisfied: nltk in /usr/local/lib/python3.10/dist-packages (from sentence-transformers==2.2.2) (3.8.1)\n",
            "Collecting sentencepiece (from sentence-transformers==2.2.2)\n",
            "  Downloading sentencepiece-0.1.99-cp310-cp310-manylinux_2_17_x86_64.manylinux2014_x86_64.whl (1.3 MB)\n",
            "\u001b[2K     \u001b[90m━━━━━━━━━━━━━━━━━━━━━━━━━━━━━━━━━━━━━━━━\u001b[0m \u001b[32m1.3/1.3 MB\u001b[0m \u001b[31m83.8 MB/s\u001b[0m eta \u001b[36m0:00:00\u001b[0m\n",
            "\u001b[?25hCollecting huggingface-hub>=0.4.0 (from sentence-transformers==2.2.2)\n",
            "  Downloading huggingface_hub-0.17.3-py3-none-any.whl (295 kB)\n",
            "\u001b[2K     \u001b[90m━━━━━━━━━━━━━━━━━━━━━━━━━━━━━━━━━━━━━━\u001b[0m \u001b[32m295.0/295.0 kB\u001b[0m \u001b[31m38.4 MB/s\u001b[0m eta \u001b[36m0:00:00\u001b[0m\n",
            "\u001b[?25hRequirement already satisfied: filelock in /usr/local/lib/python3.10/dist-packages (from huggingface-hub>=0.4.0->sentence-transformers==2.2.2) (3.12.4)\n",
            "Requirement already satisfied: fsspec in /usr/local/lib/python3.10/dist-packages (from huggingface-hub>=0.4.0->sentence-transformers==2.2.2) (2023.6.0)\n",
            "Requirement already satisfied: requests in /usr/local/lib/python3.10/dist-packages (from huggingface-hub>=0.4.0->sentence-transformers==2.2.2) (2.31.0)\n",
            "Requirement already satisfied: pyyaml>=5.1 in /usr/local/lib/python3.10/dist-packages (from huggingface-hub>=0.4.0->sentence-transformers==2.2.2) (6.0.1)\n",
            "Requirement already satisfied: typing-extensions>=3.7.4.3 in /usr/local/lib/python3.10/dist-packages (from huggingface-hub>=0.4.0->sentence-transformers==2.2.2) (4.5.0)\n",
            "Requirement already satisfied: packaging>=20.9 in /usr/local/lib/python3.10/dist-packages (from huggingface-hub>=0.4.0->sentence-transformers==2.2.2) (23.2)\n",
            "Requirement already satisfied: sympy in /usr/local/lib/python3.10/dist-packages (from torch>=1.6.0->sentence-transformers==2.2.2) (1.12)\n",
            "Requirement already satisfied: networkx in /usr/local/lib/python3.10/dist-packages (from torch>=1.6.0->sentence-transformers==2.2.2) (3.1)\n",
            "Requirement already satisfied: jinja2 in /usr/local/lib/python3.10/dist-packages (from torch>=1.6.0->sentence-transformers==2.2.2) (3.1.2)\n",
            "Requirement already satisfied: triton==2.0.0 in /usr/local/lib/python3.10/dist-packages (from torch>=1.6.0->sentence-transformers==2.2.2) (2.0.0)\n",
            "Requirement already satisfied: cmake in /usr/local/lib/python3.10/dist-packages (from triton==2.0.0->torch>=1.6.0->sentence-transformers==2.2.2) (3.27.6)\n",
            "Requirement already satisfied: lit in /usr/local/lib/python3.10/dist-packages (from triton==2.0.0->torch>=1.6.0->sentence-transformers==2.2.2) (17.0.2)\n",
            "Requirement already satisfied: regex!=2019.12.17 in /usr/local/lib/python3.10/dist-packages (from transformers<5.0.0,>=4.6.0->sentence-transformers==2.2.2) (2023.6.3)\n",
            "Collecting tokenizers<0.15,>=0.14 (from transformers<5.0.0,>=4.6.0->sentence-transformers==2.2.2)\n",
            "  Downloading tokenizers-0.14.1-cp310-cp310-manylinux_2_17_x86_64.manylinux2014_x86_64.whl (3.8 MB)\n",
            "\u001b[2K     \u001b[90m━━━━━━━━━━━━━━━━━━━━━━━━━━━━━━━━━━━━━━━━\u001b[0m \u001b[32m3.8/3.8 MB\u001b[0m \u001b[31m97.7 MB/s\u001b[0m eta \u001b[36m0:00:00\u001b[0m\n",
            "\u001b[?25hCollecting safetensors>=0.3.1 (from transformers<5.0.0,>=4.6.0->sentence-transformers==2.2.2)\n",
            "  Downloading safetensors-0.4.0-cp310-cp310-manylinux_2_17_x86_64.manylinux2014_x86_64.whl (1.3 MB)\n",
            "\u001b[2K     \u001b[90m━━━━━━━━━━━━━━━━━━━━━━━━━━━━━━━━━━━━━━━━\u001b[0m \u001b[32m1.3/1.3 MB\u001b[0m \u001b[31m84.6 MB/s\u001b[0m eta \u001b[36m0:00:00\u001b[0m\n",
            "\u001b[?25hRequirement already satisfied: click in /usr/local/lib/python3.10/dist-packages (from nltk->sentence-transformers==2.2.2) (8.1.7)\n",
            "Requirement already satisfied: joblib in /usr/local/lib/python3.10/dist-packages (from nltk->sentence-transformers==2.2.2) (1.3.2)\n",
            "Requirement already satisfied: threadpoolctl>=2.0.0 in /usr/local/lib/python3.10/dist-packages (from scikit-learn->sentence-transformers==2.2.2) (3.2.0)\n",
            "Requirement already satisfied: pillow!=8.3.*,>=5.3.0 in /usr/local/lib/python3.10/dist-packages (from torchvision->sentence-transformers==2.2.2) (9.4.0)\n",
            "Requirement already satisfied: MarkupSafe>=2.0 in /usr/local/lib/python3.10/dist-packages (from jinja2->torch>=1.6.0->sentence-transformers==2.2.2) (2.1.3)\n",
            "Requirement already satisfied: charset-normalizer<4,>=2 in /usr/local/lib/python3.10/dist-packages (from requests->huggingface-hub>=0.4.0->sentence-transformers==2.2.2) (3.3.0)\n",
            "Requirement already satisfied: idna<4,>=2.5 in /usr/local/lib/python3.10/dist-packages (from requests->huggingface-hub>=0.4.0->sentence-transformers==2.2.2) (3.4)\n",
            "Requirement already satisfied: urllib3<3,>=1.21.1 in /usr/local/lib/python3.10/dist-packages (from requests->huggingface-hub>=0.4.0->sentence-transformers==2.2.2) (2.0.6)\n",
            "Requirement already satisfied: certifi>=2017.4.17 in /usr/local/lib/python3.10/dist-packages (from requests->huggingface-hub>=0.4.0->sentence-transformers==2.2.2) (2023.7.22)\n",
            "Requirement already satisfied: mpmath>=0.19 in /usr/local/lib/python3.10/dist-packages (from sympy->torch>=1.6.0->sentence-transformers==2.2.2) (1.3.0)\n",
            "Building wheels for collected packages: sentence-transformers\n",
            "  Building wheel for sentence-transformers (setup.py) ... \u001b[?25l\u001b[?25hdone\n",
            "  Created wheel for sentence-transformers: filename=sentence_transformers-2.2.2-py3-none-any.whl size=125923 sha256=1690a841bcb5d29acc3b629563d212d2f3d75389916be73623b45a6fd0f14f77\n",
            "  Stored in directory: /root/.cache/pip/wheels/62/f2/10/1e606fd5f02395388f74e7462910fe851042f97238cbbd902f\n",
            "Successfully built sentence-transformers\n",
            "Installing collected packages: sentencepiece, safetensors, huggingface-hub, tokenizers, transformers, sentence-transformers\n",
            "Successfully installed huggingface-hub-0.17.3 safetensors-0.4.0 sentence-transformers-2.2.2 sentencepiece-0.1.99 tokenizers-0.14.1 transformers-4.34.0\n",
            "Collecting chromadb==0.3.26\n",
            "  Downloading chromadb-0.3.26-py3-none-any.whl (123 kB)\n",
            "\u001b[2K     \u001b[90m━━━━━━━━━━━━━━━━━━━━━━━━━━━━━━━━━━━━━━━\u001b[0m \u001b[32m123.6/123.6 kB\u001b[0m \u001b[31m4.0 MB/s\u001b[0m eta \u001b[36m0:00:00\u001b[0m\n",
            "\u001b[?25hRequirement already satisfied: pandas>=1.3 in /usr/local/lib/python3.10/dist-packages (from chromadb==0.3.26) (1.5.3)\n",
            "Requirement already satisfied: requests>=2.28 in /usr/local/lib/python3.10/dist-packages (from chromadb==0.3.26) (2.31.0)\n",
            "Requirement already satisfied: pydantic>=1.9 in /usr/local/lib/python3.10/dist-packages (from chromadb==0.3.26) (1.10.13)\n",
            "Collecting hnswlib>=0.7 (from chromadb==0.3.26)\n",
            "  Downloading hnswlib-0.7.0.tar.gz (33 kB)\n",
            "  Installing build dependencies ... \u001b[?25l\u001b[?25hdone\n",
            "  Getting requirements to build wheel ... \u001b[?25l\u001b[?25hdone\n",
            "  Preparing metadata (pyproject.toml) ... \u001b[?25l\u001b[?25hdone\n",
            "Collecting clickhouse-connect>=0.5.7 (from chromadb==0.3.26)\n",
            "  Downloading clickhouse_connect-0.6.14-cp310-cp310-manylinux_2_17_x86_64.manylinux2014_x86_64.whl (966 kB)\n",
            "\u001b[2K     \u001b[90m━━━━━━━━━━━━━━━━━━━━━━━━━━━━━━━━━━━━━━━\u001b[0m \u001b[32m966.8/966.8 kB\u001b[0m \u001b[31m3.9 MB/s\u001b[0m eta \u001b[36m0:00:00\u001b[0m\n",
            "\u001b[?25hRequirement already satisfied: duckdb>=0.7.1 in /usr/local/lib/python3.10/dist-packages (from chromadb==0.3.26) (0.8.1)\n",
            "Collecting fastapi>=0.85.1 (from chromadb==0.3.26)\n",
            "  Downloading fastapi-0.103.2-py3-none-any.whl (66 kB)\n",
            "\u001b[2K     \u001b[90m━━━━━━━━━━━━━━━━━━━━━━━━━━━━━━━━━━━━━━━━\u001b[0m \u001b[32m66.3/66.3 kB\u001b[0m \u001b[31m9.1 MB/s\u001b[0m eta \u001b[36m0:00:00\u001b[0m\n",
            "\u001b[?25hCollecting uvicorn[standard]>=0.18.3 (from chromadb==0.3.26)\n",
            "  Downloading uvicorn-0.23.2-py3-none-any.whl (59 kB)\n",
            "\u001b[2K     \u001b[90m━━━━━━━━━━━━━━━━━━━━━━━━━━━━━━━━━━━━━━━━\u001b[0m \u001b[32m59.5/59.5 kB\u001b[0m \u001b[31m8.2 MB/s\u001b[0m eta \u001b[36m0:00:00\u001b[0m\n",
            "\u001b[?25hRequirement already satisfied: numpy>=1.21.6 in /usr/local/lib/python3.10/dist-packages (from chromadb==0.3.26) (1.23.5)\n",
            "Collecting posthog>=2.4.0 (from chromadb==0.3.26)\n",
            "  Downloading posthog-3.0.2-py2.py3-none-any.whl (37 kB)\n",
            "Requirement already satisfied: typing-extensions>=4.5.0 in /usr/local/lib/python3.10/dist-packages (from chromadb==0.3.26) (4.5.0)\n",
            "Collecting pulsar-client>=3.1.0 (from chromadb==0.3.26)\n",
            "  Downloading pulsar_client-3.3.0-cp310-cp310-manylinux_2_17_x86_64.manylinux2014_x86_64.whl (5.4 MB)\n",
            "\u001b[2K     \u001b[90m━━━━━━━━━━━━━━━━━━━━━━━━━━━━━━━━━━━━━━━━\u001b[0m \u001b[32m5.4/5.4 MB\u001b[0m \u001b[31m33.8 MB/s\u001b[0m eta \u001b[36m0:00:00\u001b[0m\n",
            "\u001b[?25hCollecting onnxruntime>=1.14.1 (from chromadb==0.3.26)\n",
            "  Downloading onnxruntime-1.16.0-cp310-cp310-manylinux_2_17_x86_64.manylinux2014_x86_64.whl (6.2 MB)\n",
            "\u001b[2K     \u001b[90m━━━━━━━━━━━━━━━━━━━━━━━━━━━━━━━━━━━━━━━━\u001b[0m \u001b[32m6.2/6.2 MB\u001b[0m \u001b[31m54.0 MB/s\u001b[0m eta \u001b[36m0:00:00\u001b[0m\n",
            "\u001b[?25hRequirement already satisfied: tokenizers>=0.13.2 in /usr/local/lib/python3.10/dist-packages (from chromadb==0.3.26) (0.14.1)\n",
            "Requirement already satisfied: tqdm>=4.65.0 in /usr/local/lib/python3.10/dist-packages (from chromadb==0.3.26) (4.66.1)\n",
            "Collecting overrides>=7.3.1 (from chromadb==0.3.26)\n",
            "  Downloading overrides-7.4.0-py3-none-any.whl (17 kB)\n",
            "Requirement already satisfied: certifi in /usr/local/lib/python3.10/dist-packages (from clickhouse-connect>=0.5.7->chromadb==0.3.26) (2023.7.22)\n",
            "Requirement already satisfied: urllib3>=1.26 in /usr/local/lib/python3.10/dist-packages (from clickhouse-connect>=0.5.7->chromadb==0.3.26) (2.0.6)\n",
            "Requirement already satisfied: pytz in /usr/local/lib/python3.10/dist-packages (from clickhouse-connect>=0.5.7->chromadb==0.3.26) (2023.3.post1)\n",
            "Collecting zstandard (from clickhouse-connect>=0.5.7->chromadb==0.3.26)\n",
            "  Downloading zstandard-0.21.0-cp310-cp310-manylinux_2_17_x86_64.manylinux2014_x86_64.whl (2.7 MB)\n",
            "\u001b[2K     \u001b[90m━━━━━━━━━━━━━━━━━━━━━━━━━━━━━━━━━━━━━━━━\u001b[0m \u001b[32m2.7/2.7 MB\u001b[0m \u001b[31m67.4 MB/s\u001b[0m eta \u001b[36m0:00:00\u001b[0m\n",
            "\u001b[?25hCollecting lz4 (from clickhouse-connect>=0.5.7->chromadb==0.3.26)\n",
            "  Downloading lz4-4.3.2-cp310-cp310-manylinux_2_17_x86_64.manylinux2014_x86_64.whl (1.3 MB)\n",
            "\u001b[2K     \u001b[90m━━━━━━━━━━━━━━━━━━━━━━━━━━━━━━━━━━━━━━━━\u001b[0m \u001b[32m1.3/1.3 MB\u001b[0m \u001b[31m60.9 MB/s\u001b[0m eta \u001b[36m0:00:00\u001b[0m\n",
            "\u001b[?25hRequirement already satisfied: anyio<4.0.0,>=3.7.1 in /usr/local/lib/python3.10/dist-packages (from fastapi>=0.85.1->chromadb==0.3.26) (3.7.1)\n",
            "Collecting starlette<0.28.0,>=0.27.0 (from fastapi>=0.85.1->chromadb==0.3.26)\n",
            "  Downloading starlette-0.27.0-py3-none-any.whl (66 kB)\n",
            "\u001b[2K     \u001b[90m━━━━━━━━━━━━━━━━━━━━━━━━━━━━━━━━━━━━━━━━\u001b[0m \u001b[32m67.0/67.0 kB\u001b[0m \u001b[31m9.5 MB/s\u001b[0m eta \u001b[36m0:00:00\u001b[0m\n",
            "\u001b[?25hCollecting coloredlogs (from onnxruntime>=1.14.1->chromadb==0.3.26)\n",
            "  Downloading coloredlogs-15.0.1-py2.py3-none-any.whl (46 kB)\n",
            "\u001b[2K     \u001b[90m━━━━━━━━━━━━━━━━━━━━━━━━━━━━━━━━━━━━━━━━\u001b[0m \u001b[32m46.0/46.0 kB\u001b[0m \u001b[31m6.9 MB/s\u001b[0m eta \u001b[36m0:00:00\u001b[0m\n",
            "\u001b[?25hRequirement already satisfied: flatbuffers in /usr/local/lib/python3.10/dist-packages (from onnxruntime>=1.14.1->chromadb==0.3.26) (23.5.26)\n",
            "Requirement already satisfied: packaging in /usr/local/lib/python3.10/dist-packages (from onnxruntime>=1.14.1->chromadb==0.3.26) (23.2)\n",
            "Requirement already satisfied: protobuf in /usr/local/lib/python3.10/dist-packages (from onnxruntime>=1.14.1->chromadb==0.3.26) (3.20.3)\n",
            "Requirement already satisfied: sympy in /usr/local/lib/python3.10/dist-packages (from onnxruntime>=1.14.1->chromadb==0.3.26) (1.12)\n",
            "Requirement already satisfied: python-dateutil>=2.8.1 in /usr/local/lib/python3.10/dist-packages (from pandas>=1.3->chromadb==0.3.26) (2.8.2)\n",
            "Requirement already satisfied: six>=1.5 in /usr/local/lib/python3.10/dist-packages (from posthog>=2.4.0->chromadb==0.3.26) (1.16.0)\n",
            "Collecting monotonic>=1.5 (from posthog>=2.4.0->chromadb==0.3.26)\n",
            "  Downloading monotonic-1.6-py2.py3-none-any.whl (8.2 kB)\n",
            "Collecting backoff>=1.10.0 (from posthog>=2.4.0->chromadb==0.3.26)\n",
            "  Downloading backoff-2.2.1-py3-none-any.whl (15 kB)\n",
            "Requirement already satisfied: charset-normalizer<4,>=2 in /usr/local/lib/python3.10/dist-packages (from requests>=2.28->chromadb==0.3.26) (3.3.0)\n",
            "Requirement already satisfied: idna<4,>=2.5 in /usr/local/lib/python3.10/dist-packages (from requests>=2.28->chromadb==0.3.26) (3.4)\n",
            "Requirement already satisfied: huggingface_hub<0.18,>=0.16.4 in /usr/local/lib/python3.10/dist-packages (from tokenizers>=0.13.2->chromadb==0.3.26) (0.17.3)\n",
            "Requirement already satisfied: click>=7.0 in /usr/local/lib/python3.10/dist-packages (from uvicorn[standard]>=0.18.3->chromadb==0.3.26) (8.1.7)\n",
            "Collecting h11>=0.8 (from uvicorn[standard]>=0.18.3->chromadb==0.3.26)\n",
            "  Downloading h11-0.14.0-py3-none-any.whl (58 kB)\n",
            "\u001b[2K     \u001b[90m━━━━━━━━━━━━━━━━━━━━━━━━━━━━━━━━━━━━━━━━\u001b[0m \u001b[32m58.3/58.3 kB\u001b[0m \u001b[31m8.7 MB/s\u001b[0m eta \u001b[36m0:00:00\u001b[0m\n",
            "\u001b[?25hCollecting httptools>=0.5.0 (from uvicorn[standard]>=0.18.3->chromadb==0.3.26)\n",
            "  Downloading httptools-0.6.0-cp310-cp310-manylinux_2_5_x86_64.manylinux1_x86_64.manylinux_2_17_x86_64.manylinux2014_x86_64.whl (428 kB)\n",
            "\u001b[2K     \u001b[90m━━━━━━━━━━━━━━━━━━━━━━━━━━━━━━━━━━━━━━\u001b[0m \u001b[32m428.8/428.8 kB\u001b[0m \u001b[31m49.2 MB/s\u001b[0m eta \u001b[36m0:00:00\u001b[0m\n",
            "\u001b[?25hCollecting python-dotenv>=0.13 (from uvicorn[standard]>=0.18.3->chromadb==0.3.26)\n",
            "  Downloading python_dotenv-1.0.0-py3-none-any.whl (19 kB)\n",
            "Requirement already satisfied: pyyaml>=5.1 in /usr/local/lib/python3.10/dist-packages (from uvicorn[standard]>=0.18.3->chromadb==0.3.26) (6.0.1)\n",
            "Collecting uvloop!=0.15.0,!=0.15.1,>=0.14.0 (from uvicorn[standard]>=0.18.3->chromadb==0.3.26)\n",
            "  Downloading uvloop-0.17.0-cp310-cp310-manylinux_2_17_x86_64.manylinux2014_x86_64.whl (4.1 MB)\n",
            "\u001b[2K     \u001b[90m━━━━━━━━━━━━━━━━━━━━━━━━━━━━━━━━━━━━━━━━\u001b[0m \u001b[32m4.1/4.1 MB\u001b[0m \u001b[31m85.6 MB/s\u001b[0m eta \u001b[36m0:00:00\u001b[0m\n",
            "\u001b[?25hCollecting watchfiles>=0.13 (from uvicorn[standard]>=0.18.3->chromadb==0.3.26)\n",
            "  Downloading watchfiles-0.20.0-cp37-abi3-manylinux_2_17_x86_64.manylinux2014_x86_64.whl (1.3 MB)\n",
            "\u001b[2K     \u001b[90m━━━━━━━━━━━━━━━━━━━━━━━━━━━━━━━━━━━━━━━━\u001b[0m \u001b[32m1.3/1.3 MB\u001b[0m \u001b[31m73.3 MB/s\u001b[0m eta \u001b[36m0:00:00\u001b[0m\n",
            "\u001b[?25hCollecting websockets>=10.4 (from uvicorn[standard]>=0.18.3->chromadb==0.3.26)\n",
            "  Downloading websockets-11.0.3-cp310-cp310-manylinux_2_5_x86_64.manylinux1_x86_64.manylinux_2_17_x86_64.manylinux2014_x86_64.whl (129 kB)\n",
            "\u001b[2K     \u001b[90m━━━━━━━━━━━━━━━━━━━━━━━━━━━━━━━━━━━━━━\u001b[0m \u001b[32m129.9/129.9 kB\u001b[0m \u001b[31m16.9 MB/s\u001b[0m eta \u001b[36m0:00:00\u001b[0m\n",
            "\u001b[?25hRequirement already satisfied: sniffio>=1.1 in /usr/local/lib/python3.10/dist-packages (from anyio<4.0.0,>=3.7.1->fastapi>=0.85.1->chromadb==0.3.26) (1.3.0)\n",
            "Requirement already satisfied: exceptiongroup in /usr/local/lib/python3.10/dist-packages (from anyio<4.0.0,>=3.7.1->fastapi>=0.85.1->chromadb==0.3.26) (1.1.3)\n",
            "Requirement already satisfied: filelock in /usr/local/lib/python3.10/dist-packages (from huggingface_hub<0.18,>=0.16.4->tokenizers>=0.13.2->chromadb==0.3.26) (3.12.4)\n",
            "Requirement already satisfied: fsspec in /usr/local/lib/python3.10/dist-packages (from huggingface_hub<0.18,>=0.16.4->tokenizers>=0.13.2->chromadb==0.3.26) (2023.6.0)\n",
            "Collecting humanfriendly>=9.1 (from coloredlogs->onnxruntime>=1.14.1->chromadb==0.3.26)\n",
            "  Downloading humanfriendly-10.0-py2.py3-none-any.whl (86 kB)\n",
            "\u001b[2K     \u001b[90m━━━━━━━━━━━━━━━━━━━━━━━━━━━━━━━━━━━━━━━━\u001b[0m \u001b[32m86.8/86.8 kB\u001b[0m \u001b[31m12.4 MB/s\u001b[0m eta \u001b[36m0:00:00\u001b[0m\n",
            "\u001b[?25hRequirement already satisfied: mpmath>=0.19 in /usr/local/lib/python3.10/dist-packages (from sympy->onnxruntime>=1.14.1->chromadb==0.3.26) (1.3.0)\n",
            "Building wheels for collected packages: hnswlib\n",
            "  Building wheel for hnswlib (pyproject.toml) ... \u001b[?25l\u001b[?25hdone\n",
            "  Created wheel for hnswlib: filename=hnswlib-0.7.0-cp310-cp310-linux_x86_64.whl size=2202684 sha256=f1393b9d736fc07ab37d682ea35c06f75faee7041a43d0659024e775c703a2cb\n",
            "  Stored in directory: /root/.cache/pip/wheels/8a/ae/ec/235a682e0041fbaeee389843670581ec6c66872db856dfa9a4\n",
            "Successfully built hnswlib\n",
            "Installing collected packages: monotonic, zstandard, websockets, uvloop, python-dotenv, pulsar-client, overrides, lz4, humanfriendly, httptools, hnswlib, h11, backoff, watchfiles, uvicorn, starlette, posthog, coloredlogs, clickhouse-connect, onnxruntime, fastapi, chromadb\n",
            "Successfully installed backoff-2.2.1 chromadb-0.3.26 clickhouse-connect-0.6.14 coloredlogs-15.0.1 fastapi-0.103.2 h11-0.14.0 hnswlib-0.7.0 httptools-0.6.0 humanfriendly-10.0 lz4-4.3.2 monotonic-1.6 onnxruntime-1.16.0 overrides-7.4.0 posthog-3.0.2 pulsar-client-3.3.0 python-dotenv-1.0.0 starlette-0.27.0 uvicorn-0.23.2 uvloop-0.17.0 watchfiles-0.20.0 websockets-11.0.3 zstandard-0.21.0\n",
            "Collecting unstructured==0.10.19\n",
            "  Downloading unstructured-0.10.19-py3-none-any.whl (1.6 MB)\n",
            "\u001b[2K     \u001b[90m━━━━━━━━━━━━━━━━━━━━━━━━━━━━━━━━━━━━━━━━\u001b[0m \u001b[32m1.6/1.6 MB\u001b[0m \u001b[31m11.2 MB/s\u001b[0m eta \u001b[36m0:00:00\u001b[0m\n",
            "\u001b[?25hCollecting pdf2image==1.16.3\n",
            "  Downloading pdf2image-1.16.3-py3-none-any.whl (11 kB)\n",
            "Collecting pdfminer==20191125\n",
            "  Downloading pdfminer-20191125.tar.gz (4.2 MB)\n",
            "\u001b[2K     \u001b[90m━━━━━━━━━━━━━━━━━━━━━━━━━━━━━━━━━━━━━━━━\u001b[0m \u001b[32m4.2/4.2 MB\u001b[0m \u001b[31m27.1 MB/s\u001b[0m eta \u001b[36m0:00:00\u001b[0m\n",
            "\u001b[?25h  Preparing metadata (setup.py) ... \u001b[?25l\u001b[?25hdone\n",
            "Requirement already satisfied: chardet in /usr/local/lib/python3.10/dist-packages (from unstructured==0.10.19) (5.2.0)\n",
            "Collecting filetype (from unstructured==0.10.19)\n",
            "  Downloading filetype-1.2.0-py2.py3-none-any.whl (19 kB)\n",
            "Collecting python-magic (from unstructured==0.10.19)\n",
            "  Downloading python_magic-0.4.27-py2.py3-none-any.whl (13 kB)\n",
            "Requirement already satisfied: lxml in /usr/local/lib/python3.10/dist-packages (from unstructured==0.10.19) (4.9.3)\n",
            "Requirement already satisfied: nltk in /usr/local/lib/python3.10/dist-packages (from unstructured==0.10.19) (3.8.1)\n",
            "Requirement already satisfied: tabulate in /usr/local/lib/python3.10/dist-packages (from unstructured==0.10.19) (0.9.0)\n",
            "Requirement already satisfied: requests in /usr/local/lib/python3.10/dist-packages (from unstructured==0.10.19) (2.31.0)\n",
            "Requirement already satisfied: beautifulsoup4 in /usr/local/lib/python3.10/dist-packages (from unstructured==0.10.19) (4.11.2)\n",
            "Collecting emoji (from unstructured==0.10.19)\n",
            "  Downloading emoji-2.8.0-py2.py3-none-any.whl (358 kB)\n",
            "\u001b[2K     \u001b[90m━━━━━━━━━━━━━━━━━━━━━━━━━━━━━━━━━━━━━━\u001b[0m \u001b[32m358.9/358.9 kB\u001b[0m \u001b[31m25.1 MB/s\u001b[0m eta \u001b[36m0:00:00\u001b[0m\n",
            "\u001b[?25hRequirement already satisfied: dataclasses-json in /usr/local/lib/python3.10/dist-packages (from unstructured==0.10.19) (0.6.1)\n",
            "Collecting python-iso639 (from unstructured==0.10.19)\n",
            "  Downloading python_iso639-2023.6.15-py3-none-any.whl (275 kB)\n",
            "\u001b[2K     \u001b[90m━━━━━━━━━━━━━━━━━━━━━━━━━━━━━━━━━━━━━━\u001b[0m \u001b[32m275.1/275.1 kB\u001b[0m \u001b[31m35.3 MB/s\u001b[0m eta \u001b[36m0:00:00\u001b[0m\n",
            "\u001b[?25hCollecting langdetect (from unstructured==0.10.19)\n",
            "  Downloading langdetect-1.0.9.tar.gz (981 kB)\n",
            "\u001b[2K     \u001b[90m━━━━━━━━━━━━━━━━━━━━━━━━━━━━━━━━━━━━━━\u001b[0m \u001b[32m981.5/981.5 kB\u001b[0m \u001b[31m33.6 MB/s\u001b[0m eta \u001b[36m0:00:00\u001b[0m\n",
            "\u001b[?25h  Preparing metadata (setup.py) ... \u001b[?25l\u001b[?25hdone\n",
            "Requirement already satisfied: numpy in /usr/local/lib/python3.10/dist-packages (from unstructured==0.10.19) (1.23.5)\n",
            "Requirement already satisfied: pillow in /usr/local/lib/python3.10/dist-packages (from pdf2image==1.16.3) (9.4.0)\n",
            "Collecting pycryptodome (from pdfminer==20191125)\n",
            "  Downloading pycryptodome-3.19.0-cp35-abi3-manylinux_2_17_x86_64.manylinux2014_x86_64.whl (2.1 MB)\n",
            "\u001b[2K     \u001b[90m━━━━━━━━━━━━━━━━━━━━━━━━━━━━━━━━━━━━━━━━\u001b[0m \u001b[32m2.1/2.1 MB\u001b[0m \u001b[31m47.0 MB/s\u001b[0m eta \u001b[36m0:00:00\u001b[0m\n",
            "\u001b[?25hRequirement already satisfied: soupsieve>1.2 in /usr/local/lib/python3.10/dist-packages (from beautifulsoup4->unstructured==0.10.19) (2.5)\n",
            "Requirement already satisfied: marshmallow<4.0.0,>=3.18.0 in /usr/local/lib/python3.10/dist-packages (from dataclasses-json->unstructured==0.10.19) (3.20.1)\n",
            "Requirement already satisfied: typing-inspect<1,>=0.4.0 in /usr/local/lib/python3.10/dist-packages (from dataclasses-json->unstructured==0.10.19) (0.9.0)\n",
            "Requirement already satisfied: six in /usr/local/lib/python3.10/dist-packages (from langdetect->unstructured==0.10.19) (1.16.0)\n",
            "Requirement already satisfied: click in /usr/local/lib/python3.10/dist-packages (from nltk->unstructured==0.10.19) (8.1.7)\n",
            "Requirement already satisfied: joblib in /usr/local/lib/python3.10/dist-packages (from nltk->unstructured==0.10.19) (1.3.2)\n",
            "Requirement already satisfied: regex>=2021.8.3 in /usr/local/lib/python3.10/dist-packages (from nltk->unstructured==0.10.19) (2023.6.3)\n",
            "Requirement already satisfied: tqdm in /usr/local/lib/python3.10/dist-packages (from nltk->unstructured==0.10.19) (4.66.1)\n",
            "Requirement already satisfied: charset-normalizer<4,>=2 in /usr/local/lib/python3.10/dist-packages (from requests->unstructured==0.10.19) (3.3.0)\n",
            "Requirement already satisfied: idna<4,>=2.5 in /usr/local/lib/python3.10/dist-packages (from requests->unstructured==0.10.19) (3.4)\n",
            "Requirement already satisfied: urllib3<3,>=1.21.1 in /usr/local/lib/python3.10/dist-packages (from requests->unstructured==0.10.19) (2.0.6)\n",
            "Requirement already satisfied: certifi>=2017.4.17 in /usr/local/lib/python3.10/dist-packages (from requests->unstructured==0.10.19) (2023.7.22)\n",
            "Requirement already satisfied: packaging>=17.0 in /usr/local/lib/python3.10/dist-packages (from marshmallow<4.0.0,>=3.18.0->dataclasses-json->unstructured==0.10.19) (23.2)\n",
            "Requirement already satisfied: mypy-extensions>=0.3.0 in /usr/local/lib/python3.10/dist-packages (from typing-inspect<1,>=0.4.0->dataclasses-json->unstructured==0.10.19) (1.0.0)\n",
            "Requirement already satisfied: typing-extensions>=3.7.4 in /usr/local/lib/python3.10/dist-packages (from typing-inspect<1,>=0.4.0->dataclasses-json->unstructured==0.10.19) (4.5.0)\n",
            "Building wheels for collected packages: pdfminer, langdetect\n",
            "  Building wheel for pdfminer (setup.py) ... \u001b[?25l\u001b[?25hdone\n",
            "  Created wheel for pdfminer: filename=pdfminer-20191125-py3-none-any.whl size=6140069 sha256=629b85845611377b2a444346fcbb3f03d3a530a49bc439a45c0f7919a615bf48\n",
            "  Stored in directory: /root/.cache/pip/wheels/4e/c1/68/f7bd0a8f514661f76b5cbe3b5f76e0033d79f1296012cbbf72\n",
            "  Building wheel for langdetect (setup.py) ... \u001b[?25l\u001b[?25hdone\n",
            "  Created wheel for langdetect: filename=langdetect-1.0.9-py3-none-any.whl size=993224 sha256=061fc0ecd1b22838a74b6944470e7e4dec0e0b1ceb48db67b9d8ed57ecae2701\n",
            "  Stored in directory: /root/.cache/pip/wheels/95/03/7d/59ea870c70ce4e5a370638b5462a7711ab78fba2f655d05106\n",
            "Successfully built pdfminer langdetect\n",
            "Installing collected packages: filetype, python-magic, python-iso639, pycryptodome, pdf2image, langdetect, emoji, pdfminer, unstructured\n",
            "Successfully installed emoji-2.8.0 filetype-1.2.0 langdetect-1.0.9 pdf2image-1.16.3 pdfminer-20191125 pycryptodome-3.19.0 python-iso639-2023.6.15 python-magic-0.4.27 unstructured-0.10.19\n",
            "Requirement already satisfied: glob2 in /usr/local/lib/python3.10/dist-packages (0.7)\n"
          ]
        }
      ],
      "source": [
        "!pip install langchain==0.0.310\n",
        "!export LLAMA_CUBLAS=1\n",
        "!CMAKE_ARGS=\"-DLLAMA_CUBLAS=on\" pip install llama-cpp-python==0.2.11\n",
        "!pip install sentence-transformers==2.2.2\n",
        "!pip install chromadb==0.3.26\n",
        "!pip install unstructured==0.10.19 pdf2image==1.16.3 pdfminer==20191125\n",
        "!pip install glob2"
      ]
    },
    {
      "cell_type": "code",
      "source": [
        "!pip uninstall pdfminer\n",
        "!pip install pdfminer.six\n",
        "!pip install unstructured==0.10.19\n",
        "#from pdfminer.pdfinterp import PDFResourceManager\n",
        "#from pdfminer.converter import PDFPageAggregator"
      ],
      "metadata": {
        "colab": {
          "base_uri": "https://localhost:8080/"
        },
        "id": "QlBNGIVzgfAh",
        "outputId": "51e8a17d-3647-4deb-edcd-0c2cf63c61cc"
      },
      "execution_count": null,
      "outputs": [
        {
          "output_type": "stream",
          "name": "stdout",
          "text": [
            "Found existing installation: pdfminer 20191125\n",
            "Uninstalling pdfminer-20191125:\n",
            "  Would remove:\n",
            "    /usr/local/bin/dumppdf.py\n",
            "    /usr/local/bin/pdf2txt.py\n",
            "    /usr/local/lib/python3.10/dist-packages/pdfminer-20191125.dist-info/*\n",
            "    /usr/local/lib/python3.10/dist-packages/pdfminer/*\n",
            "Proceed (Y/n)? Y\n",
            "  Successfully uninstalled pdfminer-20191125\n",
            "Collecting pdfminer.six\n",
            "  Downloading pdfminer.six-20221105-py3-none-any.whl (5.6 MB)\n",
            "\u001b[2K     \u001b[90m━━━━━━━━━━━━━━━━━━━━━━━━━━━━━━━━━━━━━━━━\u001b[0m \u001b[32m5.6/5.6 MB\u001b[0m \u001b[31m54.1 MB/s\u001b[0m eta \u001b[36m0:00:00\u001b[0m\n",
            "\u001b[?25hRequirement already satisfied: charset-normalizer>=2.0.0 in /usr/local/lib/python3.10/dist-packages (from pdfminer.six) (3.3.0)\n",
            "Requirement already satisfied: cryptography>=36.0.0 in /usr/local/lib/python3.10/dist-packages (from pdfminer.six) (41.0.4)\n",
            "Requirement already satisfied: cffi>=1.12 in /usr/local/lib/python3.10/dist-packages (from cryptography>=36.0.0->pdfminer.six) (1.16.0)\n",
            "Requirement already satisfied: pycparser in /usr/local/lib/python3.10/dist-packages (from cffi>=1.12->cryptography>=36.0.0->pdfminer.six) (2.21)\n",
            "Installing collected packages: pdfminer.six\n",
            "Successfully installed pdfminer.six-20221105\n",
            "Requirement already satisfied: unstructured==0.10.19 in /usr/local/lib/python3.10/dist-packages (0.10.19)\n",
            "Requirement already satisfied: chardet in /usr/local/lib/python3.10/dist-packages (from unstructured==0.10.19) (5.2.0)\n",
            "Requirement already satisfied: filetype in /usr/local/lib/python3.10/dist-packages (from unstructured==0.10.19) (1.2.0)\n",
            "Requirement already satisfied: python-magic in /usr/local/lib/python3.10/dist-packages (from unstructured==0.10.19) (0.4.27)\n",
            "Requirement already satisfied: lxml in /usr/local/lib/python3.10/dist-packages (from unstructured==0.10.19) (4.9.3)\n",
            "Requirement already satisfied: nltk in /usr/local/lib/python3.10/dist-packages (from unstructured==0.10.19) (3.8.1)\n",
            "Requirement already satisfied: tabulate in /usr/local/lib/python3.10/dist-packages (from unstructured==0.10.19) (0.9.0)\n",
            "Requirement already satisfied: requests in /usr/local/lib/python3.10/dist-packages (from unstructured==0.10.19) (2.31.0)\n",
            "Requirement already satisfied: beautifulsoup4 in /usr/local/lib/python3.10/dist-packages (from unstructured==0.10.19) (4.11.2)\n",
            "Requirement already satisfied: emoji in /usr/local/lib/python3.10/dist-packages (from unstructured==0.10.19) (2.8.0)\n",
            "Requirement already satisfied: dataclasses-json in /usr/local/lib/python3.10/dist-packages (from unstructured==0.10.19) (0.6.1)\n",
            "Requirement already satisfied: python-iso639 in /usr/local/lib/python3.10/dist-packages (from unstructured==0.10.19) (2023.6.15)\n",
            "Requirement already satisfied: langdetect in /usr/local/lib/python3.10/dist-packages (from unstructured==0.10.19) (1.0.9)\n",
            "Requirement already satisfied: numpy in /usr/local/lib/python3.10/dist-packages (from unstructured==0.10.19) (1.23.5)\n",
            "Requirement already satisfied: soupsieve>1.2 in /usr/local/lib/python3.10/dist-packages (from beautifulsoup4->unstructured==0.10.19) (2.5)\n",
            "Requirement already satisfied: marshmallow<4.0.0,>=3.18.0 in /usr/local/lib/python3.10/dist-packages (from dataclasses-json->unstructured==0.10.19) (3.20.1)\n",
            "Requirement already satisfied: typing-inspect<1,>=0.4.0 in /usr/local/lib/python3.10/dist-packages (from dataclasses-json->unstructured==0.10.19) (0.9.0)\n",
            "Requirement already satisfied: six in /usr/local/lib/python3.10/dist-packages (from langdetect->unstructured==0.10.19) (1.16.0)\n",
            "Requirement already satisfied: click in /usr/local/lib/python3.10/dist-packages (from nltk->unstructured==0.10.19) (8.1.7)\n",
            "Requirement already satisfied: joblib in /usr/local/lib/python3.10/dist-packages (from nltk->unstructured==0.10.19) (1.3.2)\n",
            "Requirement already satisfied: regex>=2021.8.3 in /usr/local/lib/python3.10/dist-packages (from nltk->unstructured==0.10.19) (2023.6.3)\n",
            "Requirement already satisfied: tqdm in /usr/local/lib/python3.10/dist-packages (from nltk->unstructured==0.10.19) (4.66.1)\n",
            "Requirement already satisfied: charset-normalizer<4,>=2 in /usr/local/lib/python3.10/dist-packages (from requests->unstructured==0.10.19) (3.3.0)\n",
            "Requirement already satisfied: idna<4,>=2.5 in /usr/local/lib/python3.10/dist-packages (from requests->unstructured==0.10.19) (3.4)\n",
            "Requirement already satisfied: urllib3<3,>=1.21.1 in /usr/local/lib/python3.10/dist-packages (from requests->unstructured==0.10.19) (2.0.6)\n",
            "Requirement already satisfied: certifi>=2017.4.17 in /usr/local/lib/python3.10/dist-packages (from requests->unstructured==0.10.19) (2023.7.22)\n",
            "Requirement already satisfied: packaging>=17.0 in /usr/local/lib/python3.10/dist-packages (from marshmallow<4.0.0,>=3.18.0->dataclasses-json->unstructured==0.10.19) (23.2)\n",
            "Requirement already satisfied: mypy-extensions>=0.3.0 in /usr/local/lib/python3.10/dist-packages (from typing-inspect<1,>=0.4.0->dataclasses-json->unstructured==0.10.19) (1.0.0)\n",
            "Requirement already satisfied: typing-extensions>=3.7.4 in /usr/local/lib/python3.10/dist-packages (from typing-inspect<1,>=0.4.0->dataclasses-json->unstructured==0.10.19) (4.5.0)\n"
          ]
        }
      ]
    },
    {
      "cell_type": "code",
      "source": [
        "import chromadb\n",
        "from typing import List\n",
        "from chromadb.config import Settings\n",
        "from langchain.document_loaders import (\n",
        "    TextLoader,\n",
        "    UnstructuredPDFLoader,\n",
        "\n",
        ")\n",
        "\n",
        "LOADER_MAPPING = {\n",
        "    \".txt\": (TextLoader, {}),       # text loader class, no parameter\n",
        "    \".pdf\": (UnstructuredPDFLoader, {}),      # PDF loader class, no parameter\n",
        "\n",
        "}"
      ],
      "metadata": {
        "id": "qJmVWuqgqR8m"
      },
      "execution_count": null,
      "outputs": []
    },
    {
      "cell_type": "code",
      "source": [
        "# Load one document and save to a document object\n",
        "from langchain.docstore.document import Document\n",
        "import glob\n",
        "\n",
        "def load_one_document(file_path):\n",
        "  # get file extension\n",
        "  file_ext = \".\" + file_path.rsplit(\".\", 1)[-1]\n",
        "\n",
        "  # check whether the file type is in LOADER_MAPPING\n",
        "  #   if YES, Load the file content to \"Document\" object\n",
        "  #   if NO, skip\n",
        "  docs_data = None\n",
        "  if file_ext in LOADER_MAPPING:\n",
        "    loader_class, loader_args = LOADER_MAPPING[file_ext]\n",
        "    loader = loader_class(file_path, **loader_args)\n",
        "    docs_data = loader.load()\n",
        "  return docs_data\n",
        "\n",
        "\n",
        "# Load all documents\n",
        "import os\n",
        "def load_all_documents(source_dir):\n",
        "  all_files = glob.glob(source_dir + '/' + '*.*')\n",
        "  all_docs_data = []\n",
        "  for one_file in all_files:\n",
        "    all_docs_data.extend(load_one_document(one_file))\n",
        "  return all_docs_data\n"
      ],
      "metadata": {
        "id": "hUKq-mDJrHmd"
      },
      "execution_count": null,
      "outputs": []
    },
    {
      "cell_type": "markdown",
      "source": [
        "All files are now loaded into document objects. The next step is to split the contents hold in document objects into chunks (smaller pieces of text)."
      ],
      "metadata": {
        "id": "VqtfM4d54PCX"
      }
    },
    {
      "cell_type": "code",
      "source": [
        "# source_directry is the path where input files are there\n",
        "from langchain.text_splitter import RecursiveCharacterTextSplitter\n",
        "\n",
        "source_directory = \"/content\"\n",
        "chunk_size = 1000\n",
        "chunk_overlap = 100\n",
        "\n",
        "# load files and split contents\n",
        "all_docs_data = load_all_documents(source_directory)\n",
        "text_splitter = RecursiveCharacterTextSplitter(chunk_size=chunk_size, chunk_overlap=chunk_overlap)\n",
        "chunked_docs = text_splitter.split_documents(all_docs_data)"
      ],
      "metadata": {
        "id": "FK0pmZ_6RFpP",
        "colab": {
          "base_uri": "https://localhost:8080/"
        },
        "outputId": "d42d0a93-68ff-4c5d-893a-e834ed0cd9be"
      },
      "execution_count": null,
      "outputs": [
        {
          "output_type": "stream",
          "name": "stderr",
          "text": [
            "[nltk_data] Downloading package punkt to /root/nltk_data...\n",
            "[nltk_data]   Unzipping tokenizers/punkt.zip.\n",
            "[nltk_data] Downloading package averaged_perceptron_tagger to\n",
            "[nltk_data]     /root/nltk_data...\n",
            "[nltk_data]   Unzipping taggers/averaged_perceptron_tagger.zip.\n"
          ]
        }
      ]
    },
    {
      "cell_type": "code",
      "source": [
        "chunked_docs[110]"
      ],
      "metadata": {
        "colab": {
          "base_uri": "https://localhost:8080/"
        },
        "id": "6dC2mb_JkbhK",
        "outputId": "c911901c-e63f-425c-b132-995478449247"
      },
      "execution_count": null,
      "outputs": [
        {
          "output_type": "execute_result",
          "data": {
            "text/plain": [
              "Document(page_content='Form of search warrant 26.—(1) A search warrant issued by a court under this Code must be in writing bearing the seal of the court, and signed by a Magistrate or District Judge (as the case may be), or in the case of the General Division of the High Court, by a Judge or by the Registrar of the Supreme Court.\\n\\n[40/2019]\\n\\nInformal Consolidation – version in force from 26/6/2023\\n\\n2020 Ed.\\n\\nCriminal Procedure Code 2010\\n\\n52\\n\\n(2) A search warrant must ordinarily be issued to the Commissioner of Police and to one or more other police officers to be designated by name in the warrant, and all or any of those police officers may execute it.\\n\\n(3) The court may in appropriate circumstances issue a search warrant to one or more named persons who are not police officers, and all or any of those persons may execute it.', metadata={'source': '/content/criminal_procedure_code.pdf'})"
            ]
          },
          "metadata": {},
          "execution_count": 8
        }
      ]
    },
    {
      "cell_type": "code",
      "source": [
        "# Create embedding function\n",
        "\n",
        "from langchain.embeddings import HuggingFaceEmbeddings\n",
        "from langchain.vectorstores import Chroma\n",
        "from chromadb.config import Settings\n",
        "\n",
        "\n",
        "# configuration of the vector store\n",
        "persist_directory = \"./\"\n",
        "\n",
        "CHROMA_SETTINGS = Settings(\n",
        "    chroma_db_impl = 'duckdb+parquet',  # use duckdb to r/w parquet file\n",
        "    anonymized_telemetry = False     # refuse telemetry of usage info\n",
        ")\n",
        "model_name = \"sentence-transformers/all-MiniLM-L12-v2\"\n",
        "model_kwargs = {'device': 'cuda'}      # you must have a gpu, otherwise change it to cpu\n",
        "encode_kwargs = {'normalize_embeddings': True}\n",
        "embedding_func = HuggingFaceEmbeddings(\n",
        "    model_name = model_name,\n",
        "    model_kwargs = model_kwargs,\n",
        "    encode_kwargs = encode_kwargs\n",
        ")\n",
        "\n",
        "print(\"Creating new vector store...\")\n",
        "db = Chroma.from_documents(\n",
        "    chunked_docs,\n",
        "    embedding_func,\n",
        "    persist_directory=persist_directory,\n",
        "    client_settings=CHROMA_SETTINGS\n",
        ")\n",
        "\n",
        "db.persist()\n",
        "db = None\n",
        "print(\"Files ingestion completed!\")"
      ],
      "metadata": {
        "colab": {
          "base_uri": "https://localhost:8080/"
        },
        "id": "nQHDRU81Kzep",
        "outputId": "cca9dca7-10e5-4d0f-9b84-58824063c1db"
      },
      "execution_count": null,
      "outputs": [
        {
          "output_type": "stream",
          "name": "stdout",
          "text": [
            "Creating new vector store...\n",
            "Files ingestion completed!\n"
          ]
        }
      ]
    },
    {
      "cell_type": "code",
      "source": [
        "!ls -l"
      ],
      "metadata": {
        "colab": {
          "base_uri": "https://localhost:8080/"
        },
        "id": "Uy8eBVGnMFg_",
        "outputId": "d0b0b0bb-319a-4386-9770-bbd43518cd54"
      },
      "execution_count": null,
      "outputs": [
        {
          "output_type": "stream",
          "name": "stdout",
          "text": [
            "total 4716\n",
            "-rw-r--r-- 1 root root     557 Oct  8 15:14 chroma-collections.parquet\n",
            "-rw-r--r-- 1 root root 3238839 Oct  8 15:14 chroma-embeddings.parquet\n",
            "-rw-r--r-- 1 root root 1574942 Oct  8 15:05 criminal_procedure_code.pdf\n",
            "drwxr-xr-x 2 root root    4096 Oct  8 15:14 index\n",
            "drwxr-xr-x 1 root root    4096 Oct  5 19:33 sample_data\n"
          ]
        }
      ]
    },
    {
      "cell_type": "code",
      "source": [
        "ls -l index"
      ],
      "metadata": {
        "id": "QHBtrRT6GfwX",
        "colab": {
          "base_uri": "https://localhost:8080/"
        },
        "outputId": "2369eb90-bf02-4134-feea-2cdcd4d13ce5"
      },
      "execution_count": null,
      "outputs": [
        {
          "output_type": "stream",
          "name": "stdout",
          "text": [
            "total 2076\n",
            "-rw-r--r-- 1 root root   38947 Oct  8 15:14 id_to_uuid_5d4ffcdb-a329-4335-9408-ad8bd346d97e.pkl\n",
            "-rw-r--r-- 1 root root 2029800 Oct  8 15:14 index_5d4ffcdb-a329-4335-9408-ad8bd346d97e.bin\n",
            "-rw-r--r-- 1 root root     105 Oct  8 15:14 index_metadata_5d4ffcdb-a329-4335-9408-ad8bd346d97e.pkl\n",
            "-rw-r--r-- 1 root root   45553 Oct  8 15:14 uuid_to_id_5d4ffcdb-a329-4335-9408-ad8bd346d97e.pkl\n"
          ]
        }
      ]
    },
    {
      "cell_type": "markdown",
      "source": [
        "****************************************************\n",
        "####################################################\n",
        "\n",
        "**Stage 2:\n",
        "Input files ingested and chromadb is created!\n",
        "Now we go to the inference stage.**\n",
        "####################################################\n",
        "****************************************************"
      ],
      "metadata": {
        "id": "61j1PQKdaTjE"
      }
    },
    {
      "cell_type": "code",
      "source": [
        "# This is the chat model!\n",
        "!wget https://huggingface.co/TheBloke/Llama-2-13B-chat-GGUF/resolve/main/llama-2-13b-chat.Q4_0.gguf"
      ],
      "metadata": {
        "colab": {
          "base_uri": "https://localhost:8080/"
        },
        "id": "PtjoMJ-Zn9Bx",
        "outputId": "974c9fa8-917f-47ca-f696-0497b99da053"
      },
      "execution_count": null,
      "outputs": [
        {
          "output_type": "stream",
          "name": "stdout",
          "text": [
            "--2023-10-08 15:15:38--  https://huggingface.co/TheBloke/Llama-2-13B-chat-GGUF/resolve/main/llama-2-13b-chat.Q4_0.gguf\n",
            "Resolving huggingface.co (huggingface.co)... 108.138.94.45, 108.138.94.27, 108.138.94.52, ...\n",
            "Connecting to huggingface.co (huggingface.co)|108.138.94.45|:443... connected.\n",
            "HTTP request sent, awaiting response... 302 Found\n",
            "Location: https://cdn-lfs.huggingface.co/repos/8d/b1/8db1d1f73b4caa58e947ccbfe2fb27ac5e495c2ad8457ad299d15987aee3b520/eda2a15d532bea4ce6fc14d15c2b72638243396816252f73a94dceeb0429112f?response-content-disposition=attachment%3B+filename*%3DUTF-8%27%27llama-2-13b-chat.Q4_0.gguf%3B+filename%3D%22llama-2-13b-chat.Q4_0.gguf%22%3B&Expires=1697037338&Policy=eyJTdGF0ZW1lbnQiOlt7IkNvbmRpdGlvbiI6eyJEYXRlTGVzc1RoYW4iOnsiQVdTOkVwb2NoVGltZSI6MTY5NzAzNzMzOH19LCJSZXNvdXJjZSI6Imh0dHBzOi8vY2RuLWxmcy5odWdnaW5nZmFjZS5jby9yZXBvcy84ZC9iMS84ZGIxZDFmNzNiNGNhYTU4ZTk0N2NjYmZlMmZiMjdhYzVlNDk1YzJhZDg0NTdhZDI5OWQxNTk4N2FlZTNiNTIwL2VkYTJhMTVkNTMyYmVhNGNlNmZjMTRkMTVjMmI3MjYzODI0MzM5NjgxNjI1MmY3M2E5NGRjZWViMDQyOTExMmY%7EcmVzcG9uc2UtY29udGVudC1kaXNwb3NpdGlvbj0qIn1dfQ__&Signature=sQ3EXJ9aE3xWhU8YcbMLT51JwSLXPwDc-uZsIeXAOIQZw1OkFf2ouo%7E7yMkng9G91Wi-nZ2JtQFbA8D4wPNRAgm41HqvDDYdi7V%7ELmtUKUz5h05JTuySibe%7Ex%7EhZ2Azrf7qdYsgNb3uZd-3Dk2TP1gxomZvz7YvK0pEKzoJYBF5tj52Msomm821Zfce%7EyWH4SSiw8eo216kt%7EM8iav9PaP1VJMrdlBMvNZhPQMymPnQtAQJawKH6QHgaDRyNkHP1pbQe8bSM-cbpEVN10O158cdNoHpXdwTYW%7E5FrxB20jS5jmxAf9D%7EqZam4KCM8oqUJCV6BQnBOOh10qVHvC2WFw__&Key-Pair-Id=KVTP0A1DKRTAX [following]\n",
            "--2023-10-08 15:15:38--  https://cdn-lfs.huggingface.co/repos/8d/b1/8db1d1f73b4caa58e947ccbfe2fb27ac5e495c2ad8457ad299d15987aee3b520/eda2a15d532bea4ce6fc14d15c2b72638243396816252f73a94dceeb0429112f?response-content-disposition=attachment%3B+filename*%3DUTF-8%27%27llama-2-13b-chat.Q4_0.gguf%3B+filename%3D%22llama-2-13b-chat.Q4_0.gguf%22%3B&Expires=1697037338&Policy=eyJTdGF0ZW1lbnQiOlt7IkNvbmRpdGlvbiI6eyJEYXRlTGVzc1RoYW4iOnsiQVdTOkVwb2NoVGltZSI6MTY5NzAzNzMzOH19LCJSZXNvdXJjZSI6Imh0dHBzOi8vY2RuLWxmcy5odWdnaW5nZmFjZS5jby9yZXBvcy84ZC9iMS84ZGIxZDFmNzNiNGNhYTU4ZTk0N2NjYmZlMmZiMjdhYzVlNDk1YzJhZDg0NTdhZDI5OWQxNTk4N2FlZTNiNTIwL2VkYTJhMTVkNTMyYmVhNGNlNmZjMTRkMTVjMmI3MjYzODI0MzM5NjgxNjI1MmY3M2E5NGRjZWViMDQyOTExMmY%7EcmVzcG9uc2UtY29udGVudC1kaXNwb3NpdGlvbj0qIn1dfQ__&Signature=sQ3EXJ9aE3xWhU8YcbMLT51JwSLXPwDc-uZsIeXAOIQZw1OkFf2ouo%7E7yMkng9G91Wi-nZ2JtQFbA8D4wPNRAgm41HqvDDYdi7V%7ELmtUKUz5h05JTuySibe%7Ex%7EhZ2Azrf7qdYsgNb3uZd-3Dk2TP1gxomZvz7YvK0pEKzoJYBF5tj52Msomm821Zfce%7EyWH4SSiw8eo216kt%7EM8iav9PaP1VJMrdlBMvNZhPQMymPnQtAQJawKH6QHgaDRyNkHP1pbQe8bSM-cbpEVN10O158cdNoHpXdwTYW%7E5FrxB20jS5jmxAf9D%7EqZam4KCM8oqUJCV6BQnBOOh10qVHvC2WFw__&Key-Pair-Id=KVTP0A1DKRTAX\n",
            "Resolving cdn-lfs.huggingface.co (cdn-lfs.huggingface.co)... 18.65.229.35, 18.65.229.16, 18.65.229.73, ...\n",
            "Connecting to cdn-lfs.huggingface.co (cdn-lfs.huggingface.co)|18.65.229.35|:443... connected.\n",
            "HTTP request sent, awaiting response... 200 OK\n",
            "Length: 7365834624 (6.9G) [binary/octet-stream]\n",
            "Saving to: ‘llama-2-13b-chat.Q4_0.gguf’\n",
            "\n",
            "llama-2-13b-chat.Q4 100%[===================>]   6.86G  49.9MB/s    in 2m 34s  \n",
            "\n",
            "2023-10-08 15:18:12 (45.7 MB/s) - ‘llama-2-13b-chat.Q4_0.gguf’ saved [7365834624/7365834624]\n",
            "\n"
          ]
        }
      ]
    },
    {
      "cell_type": "code",
      "source": [
        "from langchain.llms import LlamaCpp\n",
        "# Make sure the model path is correct for your system!\n",
        "llm = LlamaCpp(\n",
        "    n_ctx = 4096,\n",
        "    model_path=\"/content/llama-2-13b-chat.Q4_0.gguf\", # location of the model\n",
        "    temperature=0.75,                 # temperature\n",
        "    max_tokens=2000,                 # Max. number of tokens to be generated\n",
        "    top_p=0.9,                    # top_p = 0.9\n",
        "    top_k=30,                     # top_k = 30\n",
        "    n_gpu_layers=43,                 # number of layers to offload to GPU\n",
        "    verbose=True, # Verbose is required to pass to the callback manager\n",
        "    n_batch=200,          # number of token generation in parallel\n",
        ")"
      ],
      "metadata": {
        "id": "CAuC6BL6aplD",
        "colab": {
          "base_uri": "https://localhost:8080/"
        },
        "outputId": "9f20d9bc-40c1-4b82-fcdd-4b04e1e368fd"
      },
      "execution_count": null,
      "outputs": [
        {
          "output_type": "stream",
          "name": "stderr",
          "text": [
            "AVX = 1 | AVX2 = 1 | AVX512 = 0 | AVX512_VBMI = 0 | AVX512_VNNI = 0 | FMA = 1 | NEON = 0 | ARM_FMA = 0 | F16C = 1 | FP16_VA = 0 | WASM_SIMD = 0 | BLAS = 1 | SSE3 = 1 | SSSE3 = 1 | VSX = 0 | \n"
          ]
        }
      ]
    },
    {
      "cell_type": "code",
      "source": [
        "B_INST, E_INST = \"[INST]\", \"[/INST]\"\n",
        "B_SYS, E_SYS = \"<<SYS>>\\n\", \"\\n<</SYS>>\\n\\n\"\n",
        "DEFAULT_SYSTEM_PROMPT = \"You are a helpful, respectful and honest assistant.\"\n",
        "\n",
        "def create_prompt(instruction, new_system_prompt=DEFAULT_SYSTEM_PROMPT):\n",
        "  SYSTEM_PROMPT = B_SYS + new_system_prompt + E_SYS\n",
        "  prompt = B_INST + SYSTEM_PROMPT + instruction + E_INST\n",
        "  return \"<s>\" + prompt"
      ],
      "metadata": {
        "id": "wk_qjfwMaw1B"
      },
      "execution_count": null,
      "outputs": []
    },
    {
      "cell_type": "code",
      "source": [
        "# open the vector database\n",
        "from langchain.embeddings import HuggingFaceEmbeddings\n",
        "from chromadb.config import Settings\n",
        "from langchain.vectorstores import Chroma\n",
        "\n",
        "\n",
        "model_name = \"sentence-transformers/all-MiniLM-L12-v2\"\n",
        "model_kwargs = {'device': 'cuda'}      # you must have a gpu, otherwise change it to cpu\n",
        "encode_kwargs = {'normalize_embeddings': True}\n",
        "embedding_func = HuggingFaceEmbeddings(\n",
        "    model_name = model_name,\n",
        "    model_kwargs = model_kwargs,\n",
        "    encode_kwargs = encode_kwargs\n",
        ")\n",
        "\n",
        "\n",
        "persist_directory = \"./\"\n",
        "\n",
        "CHROMA_SETTINGS = Settings(\n",
        "    chroma_db_impl = 'duckdb+parquet',  # use duckdb to r/w parquet file\n",
        "    anonymized_telemetry = False     # refuse telemetry of usage info\n",
        ")\n",
        "\n",
        "vector_db = Chroma(persist_directory=persist_directory,\n",
        "            embedding_function=embedding_func,\n",
        "            client_settings=CHROMA_SETTINGS)"
      ],
      "metadata": {
        "id": "tfatf1iCl6yH"
      },
      "execution_count": null,
      "outputs": []
    },
    {
      "cell_type": "code",
      "source": [
        "from langchain.chains import RetrievalQA\n",
        "from langchain.prompts import PromptTemplate\n",
        "\n",
        "\n",
        "instruction = \"\"\"Given the following passage, you find out the answer to the question.\n",
        "\n",
        "Passage: {context}\n",
        "\n",
        "Question: {question}\n",
        "\n",
        "Helpful answer: \"\"\"\n",
        "\n",
        "prompt_template = create_prompt(instruction)\n",
        "PROMPT = PromptTemplate(\n",
        "        template=prompt_template, input_variables=[\"context\", \"question\"]\n",
        "    )\n",
        "\n",
        "chain_type_kwargs = {\"prompt\": PROMPT}\n",
        "retriever = vector_db.as_retriever(search_kwargs={\"k\": 15})\n",
        "\n",
        "query = \"what are the sentences other than death?\"\n",
        "relevant_docs = retriever.get_relevant_documents(query)\n",
        "print(relevant_docs)\n",
        "\n"
      ],
      "metadata": {
        "id": "bgEuCAwhgK_h",
        "colab": {
          "base_uri": "https://localhost:8080/"
        },
        "outputId": "87cb765e-bcf5-4815-adc4-3c70ddc1adb6"
      },
      "execution_count": null,
      "outputs": [
        {
          "output_type": "stream",
          "name": "stdout",
          "text": [
            "[Document(page_content='314. A sentence of death must not be passed or recorded against an accused convicted of an offence if the court has reason to believe that, at the time the offence was committed, the accused was below 18 years of age, but instead the court must sentence the accused to life imprisonment. Sentence of death not to be passed on pregnant woman 315.—(1) Where a woman convicted of an offence punishable with death alleges that she is pregnant, or where the court before whom a woman is so convicted thinks fit, the question whether or not the woman is pregnant must, before sentence is passed on her, be determined by the court.\\n\\n(2) If the court finds the woman pregnant, it must pass a sentence of\\n\\nlife imprisonment on her.\\n\\n(3) If the court finds the woman not to be pregnant, she may appeal to the Court of Appeal against that finding in the manner set out under this Code.', metadata={'source': '/content/criminal_procedure_code.pdf'}), Document(page_content='[19/2018; 40/2019]\\n\\n(4) When consent is given under subsection (1) or (2) and any outstanding offences are taken into consideration in determining and passing sentence, such fact must be entered in the court’s record.\\n\\n(5) After being sentenced, the accused may not, unless the accused’s conviction for the original offence under subsection (1) is set aside, be charged or tried for any offence that the court had taken into consideration under this section.\\n\\nDeath of accused\\n\\n149. Every charge or criminal proceeding abates on the death of the accused, and the court must so order if it is satisfied that the accused is dead.\\n\\nInformal Consolidation – version in force from 26/6/2023\\n\\n133\\n\\nCriminal Procedure Code 2010\\n\\n2020 Ed.\\n\\nPART 7A\\n\\nDEFERRED PROSECUTION AGREEMENTS\\n\\nInterpretation of this Part 149A. In this Part —\\n\\n“alleged offence” means\\n\\nan offence\\n\\nspecified in the\\n\\nSixth Schedule;', metadata={'source': '/content/criminal_procedure_code.pdf'}), Document(page_content='313. The following provisions apply to death sentences:\\n\\n(a) after sentence has been pronounced, a warrant under the seal of the court must be made out for the person sentenced to be committed to the custody of the Commissioner of Prisons in accordance with such prescribed form;\\n\\n(b) the warrant\\n\\nis full authority to the Commissioner of Prisons, or any officer appointed by the Commissioner of Prisons for that purpose, for receiving into his or her custody and detaining the person sentenced until he or she receives the court’s further warrant or order;\\n\\nInformal Consolidation – version in force from 26/6/2023\\n\\n277\\n\\nCriminal Procedure Code 2010\\n\\n2020 Ed.', metadata={'source': '/content/criminal_procedure_code.pdf'}), Document(page_content='(4) On hearing the appeal mentioned in subsection (3), the Court of Appeal, if satisfied for any reason that the finding should be set aside, must set aside the sentence, and pass a sentence of life imprisonment.\\n\\nJudgment of death\\n\\n316. Where any person is sentenced to death, the sentence must direct that the person must be hanged by the neck until the person is dead but must not state the place where nor the time when the sentence is to be carried out.\\n\\nInformal Consolidation – version in force from 26/6/2023\\n\\n2020 Ed.\\n\\nCriminal Procedure Code 2010\\n\\n280\\n\\nSentences other than of death 317.—(1) Where an accused is sentenced to imprisonment or to caning, the court must immediately forward a warrant (unless the accused is already confined in prison) stating the name of the accused and sentence to the Commissioner of Prisons or an officer appointed by the Commissioner for that purpose who must receive into his or her custody the person named in the warrant.\\n\\n[1/2014]', metadata={'source': '/content/criminal_procedure_code.pdf'}), Document(page_content='No sentence of death against person below 18 years of age\\n\\n314. A sentence of death must not be passed or recorded against an accused convicted of an offence if the court has reason to believe that, at the time the offence was committed, the accused was below 18 years of age, but instead the court must sentence the accused to life imprisonment. Sentence of death not to be passed on pregnant woman 315.—(1) Where a woman convicted of an offence punishable with death alleges that she is pregnant, or where the court before whom a woman is so convicted thinks fit, the question whether or not the woman is pregnant must, before sentence is passed on her, be determined by the court.', metadata={'source': '/content/criminal_procedure_code.pdf'}), Document(page_content='the payment of money or\\n\\n(2) If the appellant is ultimately sentenced to imprisonment, the time during which the execution of the sentence was stayed is to be excluded in computing the term of his or her sentence unless the appellate court orders otherwise.\\n\\n(3) In the case of a conviction involving a sentence of death, the execution of the sentence of death must not be carried out until after the sentence is confirmed by the Court of Appeal pursuant to an appeal by the accused or a petition for confirmation by the Public Prosecutor.\\n\\n[33/2012]', metadata={'source': '/content/criminal_procedure_code.pdf'}), Document(page_content='[*Updated to be consistent with the 2020 Revised Edition] (21) In this section, “capital or life imprisonment offence” means an offence that —\\n\\n(a) is punishable with death or imprisonment for life; and (b) is not —\\n\\n(i) also punishable with an alternative punishment other\\n\\nthan death or imprisonment for life; and\\n\\n(ii) to be tried before a District Court or a Magistrate’s\\n\\nCourt.\\n\\n[Act 19 of 2018 wef 15/11/2022]\\n\\nResumption of proceedings 250.—(1) When any inquiry, trial or other proceeding —\\n\\n(a) is postponed under section 247(4) for the accused to be remanded for observation in a psychiatric institution; or\\n\\n(b) is stayed under section 248(2),\\n\\nthe court may at any time begin the inquiry, trial or other proceeding afresh, and require the accused to appear or be brought before the court.\\n\\nInformal Consolidation – version in force from 26/6/2023\\n\\nCriminal Procedure Code 2010\\n\\n2020 Ed.', metadata={'source': '/content/criminal_procedure_code.pdf'}), Document(page_content='361. Any order for costs made under this Part is recoverable as a\\n\\njudgment debt.\\n\\nReward for unusual exertions and compensation for family of person killed in arresting 362.—(1) Where the court, whether on its own motion or the Public Prosecutor’s application, considers that a person has shown unusual courage, diligence or effort in the arrest of a person accused of having committed, attempted or abetted an offence punishable with death or imprisonment, then the court may order payment to the person out of the Consolidated Fund of a sum of not more than $500.\\n\\n(2) If a person is killed in trying to arrest or to keep in lawful custody any accused referred to in subsection (1), the Minister may order payment from the Consolidated Fund to the wife, husband, parent or child of the deceased of such money as appears reasonable compensation for the death.\\n\\nCourt may order payment of expenses of witnesses', metadata={'source': '/content/criminal_procedure_code.pdf'}), Document(page_content='Consecutive sentences in certain cases 307.—(1) Subject to subsection (2), if at one trial a person is convicted and sentenced to imprisonment for at least 3 distinct offences, the court before which the person is convicted must order the sentences for at least 2 of those offences to run consecutively.\\n\\n(2) Where a sentence of life imprisonment is imposed by the the High Court at a trial mentioned in General Division of subsection (1), the other sentences of imprisonment must run concurrently with the sentence of life imprisonment, except that where the Court of Appeal sets aside or reduces the sentence of life imprisonment then the Court of Appeal may order any of the other sentences of imprisonment to run consecutively.\\n\\n[40/2019]', metadata={'source': '/content/criminal_procedure_code.pdf'}), Document(page_content='(a) imprisonment not exceeding 3 years;\\n\\n(b) fine not exceeding $10,000;\\n\\n(c) caning not exceeding 6 strokes;\\n\\n(d) any other lawful sentence, including a combination of the\\n\\nsentences it is authorised by law to pass.\\n\\nInformal Consolidation – version in force from 26/6/2023\\n\\n267\\n\\nCriminal Procedure Code 2010\\n\\n2020 Ed.\\n\\nPresumptive minimum sentence 303A.—(1) This section applies where a presumptive minimum sentence is prescribed for an offence under any written law, which is denoted by the words “imprisonment for a presumptive minimum term of not less than” or words to the same or similar effect.\\n\\n[15/2019]\\n\\n(2) The court must, unless subsection (3) applies, impose a sentence that is equal to or greater than the presumptive minimum sentence prescribed for that offence.\\n\\n[15/2019]', metadata={'source': '/content/criminal_procedure_code.pdf'}), Document(page_content='286\\n\\n(b) men who are more than 50 years of age at the time of\\n\\ninfliction of the caning;\\n\\n(c) men sentenced to death whose sentences have not been\\n\\ncommuted.\\n\\n(2) Subject to any other written law, if a person is convicted of one or more offences punishable with caning (called in this section the relevant offences) but the person cannot be caned because subsection (1)(a) or (b) applies, the court may, in addition to any other punishment to which that person has been sentenced, impose a term of imprisonment of not more than 12 months in lieu of the caning which it could, but for this section, have ordered in respect of the relevant offences.', metadata={'source': '/content/criminal_procedure_code.pdf'}), Document(page_content='(c) A District Court imposes caning on a man who committed an offence when he was 54 years of age. Insofar as section 325 of this Code prohibits the court from imposing caning on the man, the court had made an error. Such an error may be rectified by the court by the next working day after the delivery of the judgment.\\n\\n(d) A District Court sentences an accused to one year’s imprisonment for an offence of extortion by putting a person in fear of death or grievous hurt under section 386 of the Penal Code 1871. Insofar as section 386 of that Code imposes a mandatory minimum imprisonment term of 2 years, the court had made an\\n\\nInformal Consolidation – version in force from 26/6/2023\\n\\n2020 Ed.\\n\\nCriminal Procedure Code 2010\\n\\n266\\n\\nerror. Such an error may be rectified by the court by the next working day after the delivery of the judgment.', metadata={'source': '/content/criminal_procedure_code.pdf'}), Document(page_content='Informal Consolidation – version in force from 26/6/2023\\n\\nCriminal Procedure Code 2010\\n\\n2020 Ed.\\n\\n(p) no omission or error as to time and place and no defect in form in any order or warrant given under this section, and no omission to comply with paragraphs (j) to (n) may be held to make illegal any execution carried out or intended to have been carried out under the order or warrant or make illegal any execution that would otherwise have been legal. [33/2012; 1/2014; 19/2018; 40/2019]\\n\\nNo sentence of death against person below 18 years of age', metadata={'source': '/content/criminal_procedure_code.pdf'}), Document(page_content='324. Where a death sentence has been carried out pursuant to a warrant issued under section 313(i), the Commissioner of Prisons who carried out the sentence must return the warrant to the court which issued it with an endorsement signed by the Commissioner, certifying that the sentence has been carried out. [1/2014]\\n\\n324. Where a death sentence has been carried out pursuant to a warrant issued under section 313(i), the Commissioner of Prisons who carried out the sentence must return the warrant to the court which issued it with an endorsement signed by the Commissioner, certifying that the sentence has been carried out. [1/2014]\\n\\nDivision 2 — Sentence of caning\\n\\nExecution of sentence of caning forbidden in certain cases 325.—(1) The following persons shall not be punished with caning:\\n\\n(a) women;\\n\\nInformal Consolidation – version in force from 26/6/2023\\n\\n2020 Ed.\\n\\nCriminal Procedure Code 2010\\n\\n286\\n\\n(b) men who are more than 50 years of age at the time of\\n\\ninfliction of the caning;', metadata={'source': '/content/criminal_procedure_code.pdf'}), Document(page_content='Sentence in case of conviction for several offences at one trial 306.—(1) Where a person is convicted at one trial of any 2 or more distinct offences, the court must sentence the person for those offences to the punishments that it is competent to impose.\\n\\n(2) Subject\\n\\nto section 307 and subsection (4), where these punishments consist of imprisonment, they are to run consecutively in the order that the court directs, or they may run concurrently if the court so directs.\\n\\n(3) The court need not send the offender for trial before a higher court merely because the combined punishment for the various offences exceeds the punishment which the court is competent to inflict for a single offence.\\n\\nInformal Consolidation – version in force from 26/6/2023\\n\\n273 Criminal Procedure Code 2010 2020 Ed. (4) Subject to any written law, a Magistrate’s Court or District Court may not impose a total term of imprisonment that exceeds twice that which such court is competent to impose under section 303.', metadata={'source': '/content/criminal_procedure_code.pdf'})]\n"
          ]
        }
      ]
    },
    {
      "cell_type": "code",
      "source": [
        "# Q&A Method 1 : Use langchain RetrievalQA chain\n",
        "\n",
        "qa_chain = RetrievalQA.from_chain_type(\n",
        "                          llm=llm,\n",
        "                          chain_type=\"stuff\",\n",
        "                          retriever=retriever,\n",
        "                          return_source_documents=True,\n",
        "                          chain_type_kwargs=chain_type_kwargs,\n",
        "                      )\n",
        "answer = qa_chain(query)\n",
        "print(\"Question: \", answer['query'] + '\\n\\n')\n",
        "print(\"Answer:\", answer['result'] + '\\n\\n')\n",
        "answer['source_documents']"
      ],
      "metadata": {
        "colab": {
          "base_uri": "https://localhost:8080/"
        },
        "id": "kCHN7NsyqIR4",
        "outputId": "13432d4d-0154-4a38-daba-d0e74945a129"
      },
      "execution_count": null,
      "outputs": [
        {
          "output_type": "stream",
          "name": "stderr",
          "text": [
            "Llama.generate: prefix-match hit\n"
          ]
        },
        {
          "output_type": "stream",
          "name": "stdout",
          "text": [
            "Question:  what are the sentences other than death?\n",
            "\n",
            "\n",
            "Answer:   Based on the provided text, the sentences other than death are:\n",
            "\n",
            "1. Imprisonment\n",
            "2. Caning\n",
            "3. Fine\n",
            "4. Community service\n",
            "5. Probation.\n",
            "\n",
            "\n"
          ]
        },
        {
          "output_type": "execute_result",
          "data": {
            "text/plain": [
              "[Document(page_content='314. A sentence of death must not be passed or recorded against an accused convicted of an offence if the court has reason to believe that, at the time the offence was committed, the accused was below 18 years of age, but instead the court must sentence the accused to life imprisonment. Sentence of death not to be passed on pregnant woman 315.—(1) Where a woman convicted of an offence punishable with death alleges that she is pregnant, or where the court before whom a woman is so convicted thinks fit, the question whether or not the woman is pregnant must, before sentence is passed on her, be determined by the court.\\n\\n(2) If the court finds the woman pregnant, it must pass a sentence of\\n\\nlife imprisonment on her.\\n\\n(3) If the court finds the woman not to be pregnant, she may appeal to the Court of Appeal against that finding in the manner set out under this Code.', metadata={'source': '/content/criminal_procedure_code.pdf'}),\n",
              " Document(page_content='[19/2018; 40/2019]\\n\\n(4) When consent is given under subsection (1) or (2) and any outstanding offences are taken into consideration in determining and passing sentence, such fact must be entered in the court’s record.\\n\\n(5) After being sentenced, the accused may not, unless the accused’s conviction for the original offence under subsection (1) is set aside, be charged or tried for any offence that the court had taken into consideration under this section.\\n\\nDeath of accused\\n\\n149. Every charge or criminal proceeding abates on the death of the accused, and the court must so order if it is satisfied that the accused is dead.\\n\\nInformal Consolidation – version in force from 26/6/2023\\n\\n133\\n\\nCriminal Procedure Code 2010\\n\\n2020 Ed.\\n\\nPART 7A\\n\\nDEFERRED PROSECUTION AGREEMENTS\\n\\nInterpretation of this Part 149A. In this Part —\\n\\n“alleged offence” means\\n\\nan offence\\n\\nspecified in the\\n\\nSixth Schedule;', metadata={'source': '/content/criminal_procedure_code.pdf'}),\n",
              " Document(page_content='313. The following provisions apply to death sentences:\\n\\n(a) after sentence has been pronounced, a warrant under the seal of the court must be made out for the person sentenced to be committed to the custody of the Commissioner of Prisons in accordance with such prescribed form;\\n\\n(b) the warrant\\n\\nis full authority to the Commissioner of Prisons, or any officer appointed by the Commissioner of Prisons for that purpose, for receiving into his or her custody and detaining the person sentenced until he or she receives the court’s further warrant or order;\\n\\nInformal Consolidation – version in force from 26/6/2023\\n\\n277\\n\\nCriminal Procedure Code 2010\\n\\n2020 Ed.', metadata={'source': '/content/criminal_procedure_code.pdf'}),\n",
              " Document(page_content='(4) On hearing the appeal mentioned in subsection (3), the Court of Appeal, if satisfied for any reason that the finding should be set aside, must set aside the sentence, and pass a sentence of life imprisonment.\\n\\nJudgment of death\\n\\n316. Where any person is sentenced to death, the sentence must direct that the person must be hanged by the neck until the person is dead but must not state the place where nor the time when the sentence is to be carried out.\\n\\nInformal Consolidation – version in force from 26/6/2023\\n\\n2020 Ed.\\n\\nCriminal Procedure Code 2010\\n\\n280\\n\\nSentences other than of death 317.—(1) Where an accused is sentenced to imprisonment or to caning, the court must immediately forward a warrant (unless the accused is already confined in prison) stating the name of the accused and sentence to the Commissioner of Prisons or an officer appointed by the Commissioner for that purpose who must receive into his or her custody the person named in the warrant.\\n\\n[1/2014]', metadata={'source': '/content/criminal_procedure_code.pdf'}),\n",
              " Document(page_content='No sentence of death against person below 18 years of age\\n\\n314. A sentence of death must not be passed or recorded against an accused convicted of an offence if the court has reason to believe that, at the time the offence was committed, the accused was below 18 years of age, but instead the court must sentence the accused to life imprisonment. Sentence of death not to be passed on pregnant woman 315.—(1) Where a woman convicted of an offence punishable with death alleges that she is pregnant, or where the court before whom a woman is so convicted thinks fit, the question whether or not the woman is pregnant must, before sentence is passed on her, be determined by the court.', metadata={'source': '/content/criminal_procedure_code.pdf'}),\n",
              " Document(page_content='the payment of money or\\n\\n(2) If the appellant is ultimately sentenced to imprisonment, the time during which the execution of the sentence was stayed is to be excluded in computing the term of his or her sentence unless the appellate court orders otherwise.\\n\\n(3) In the case of a conviction involving a sentence of death, the execution of the sentence of death must not be carried out until after the sentence is confirmed by the Court of Appeal pursuant to an appeal by the accused or a petition for confirmation by the Public Prosecutor.\\n\\n[33/2012]', metadata={'source': '/content/criminal_procedure_code.pdf'}),\n",
              " Document(page_content='[*Updated to be consistent with the 2020 Revised Edition] (21) In this section, “capital or life imprisonment offence” means an offence that —\\n\\n(a) is punishable with death or imprisonment for life; and (b) is not —\\n\\n(i) also punishable with an alternative punishment other\\n\\nthan death or imprisonment for life; and\\n\\n(ii) to be tried before a District Court or a Magistrate’s\\n\\nCourt.\\n\\n[Act 19 of 2018 wef 15/11/2022]\\n\\nResumption of proceedings 250.—(1) When any inquiry, trial or other proceeding —\\n\\n(a) is postponed under section 247(4) for the accused to be remanded for observation in a psychiatric institution; or\\n\\n(b) is stayed under section 248(2),\\n\\nthe court may at any time begin the inquiry, trial or other proceeding afresh, and require the accused to appear or be brought before the court.\\n\\nInformal Consolidation – version in force from 26/6/2023\\n\\nCriminal Procedure Code 2010\\n\\n2020 Ed.', metadata={'source': '/content/criminal_procedure_code.pdf'}),\n",
              " Document(page_content='361. Any order for costs made under this Part is recoverable as a\\n\\njudgment debt.\\n\\nReward for unusual exertions and compensation for family of person killed in arresting 362.—(1) Where the court, whether on its own motion or the Public Prosecutor’s application, considers that a person has shown unusual courage, diligence or effort in the arrest of a person accused of having committed, attempted or abetted an offence punishable with death or imprisonment, then the court may order payment to the person out of the Consolidated Fund of a sum of not more than $500.\\n\\n(2) If a person is killed in trying to arrest or to keep in lawful custody any accused referred to in subsection (1), the Minister may order payment from the Consolidated Fund to the wife, husband, parent or child of the deceased of such money as appears reasonable compensation for the death.\\n\\nCourt may order payment of expenses of witnesses', metadata={'source': '/content/criminal_procedure_code.pdf'}),\n",
              " Document(page_content='Consecutive sentences in certain cases 307.—(1) Subject to subsection (2), if at one trial a person is convicted and sentenced to imprisonment for at least 3 distinct offences, the court before which the person is convicted must order the sentences for at least 2 of those offences to run consecutively.\\n\\n(2) Where a sentence of life imprisonment is imposed by the the High Court at a trial mentioned in General Division of subsection (1), the other sentences of imprisonment must run concurrently with the sentence of life imprisonment, except that where the Court of Appeal sets aside or reduces the sentence of life imprisonment then the Court of Appeal may order any of the other sentences of imprisonment to run consecutively.\\n\\n[40/2019]', metadata={'source': '/content/criminal_procedure_code.pdf'}),\n",
              " Document(page_content='(a) imprisonment not exceeding 3 years;\\n\\n(b) fine not exceeding $10,000;\\n\\n(c) caning not exceeding 6 strokes;\\n\\n(d) any other lawful sentence, including a combination of the\\n\\nsentences it is authorised by law to pass.\\n\\nInformal Consolidation – version in force from 26/6/2023\\n\\n267\\n\\nCriminal Procedure Code 2010\\n\\n2020 Ed.\\n\\nPresumptive minimum sentence 303A.—(1) This section applies where a presumptive minimum sentence is prescribed for an offence under any written law, which is denoted by the words “imprisonment for a presumptive minimum term of not less than” or words to the same or similar effect.\\n\\n[15/2019]\\n\\n(2) The court must, unless subsection (3) applies, impose a sentence that is equal to or greater than the presumptive minimum sentence prescribed for that offence.\\n\\n[15/2019]', metadata={'source': '/content/criminal_procedure_code.pdf'}),\n",
              " Document(page_content='286\\n\\n(b) men who are more than 50 years of age at the time of\\n\\ninfliction of the caning;\\n\\n(c) men sentenced to death whose sentences have not been\\n\\ncommuted.\\n\\n(2) Subject to any other written law, if a person is convicted of one or more offences punishable with caning (called in this section the relevant offences) but the person cannot be caned because subsection (1)(a) or (b) applies, the court may, in addition to any other punishment to which that person has been sentenced, impose a term of imprisonment of not more than 12 months in lieu of the caning which it could, but for this section, have ordered in respect of the relevant offences.', metadata={'source': '/content/criminal_procedure_code.pdf'}),\n",
              " Document(page_content='(c) A District Court imposes caning on a man who committed an offence when he was 54 years of age. Insofar as section 325 of this Code prohibits the court from imposing caning on the man, the court had made an error. Such an error may be rectified by the court by the next working day after the delivery of the judgment.\\n\\n(d) A District Court sentences an accused to one year’s imprisonment for an offence of extortion by putting a person in fear of death or grievous hurt under section 386 of the Penal Code 1871. Insofar as section 386 of that Code imposes a mandatory minimum imprisonment term of 2 years, the court had made an\\n\\nInformal Consolidation – version in force from 26/6/2023\\n\\n2020 Ed.\\n\\nCriminal Procedure Code 2010\\n\\n266\\n\\nerror. Such an error may be rectified by the court by the next working day after the delivery of the judgment.', metadata={'source': '/content/criminal_procedure_code.pdf'}),\n",
              " Document(page_content='Informal Consolidation – version in force from 26/6/2023\\n\\nCriminal Procedure Code 2010\\n\\n2020 Ed.\\n\\n(p) no omission or error as to time and place and no defect in form in any order or warrant given under this section, and no omission to comply with paragraphs (j) to (n) may be held to make illegal any execution carried out or intended to have been carried out under the order or warrant or make illegal any execution that would otherwise have been legal. [33/2012; 1/2014; 19/2018; 40/2019]\\n\\nNo sentence of death against person below 18 years of age', metadata={'source': '/content/criminal_procedure_code.pdf'}),\n",
              " Document(page_content='324. Where a death sentence has been carried out pursuant to a warrant issued under section 313(i), the Commissioner of Prisons who carried out the sentence must return the warrant to the court which issued it with an endorsement signed by the Commissioner, certifying that the sentence has been carried out. [1/2014]\\n\\n324. Where a death sentence has been carried out pursuant to a warrant issued under section 313(i), the Commissioner of Prisons who carried out the sentence must return the warrant to the court which issued it with an endorsement signed by the Commissioner, certifying that the sentence has been carried out. [1/2014]\\n\\nDivision 2 — Sentence of caning\\n\\nExecution of sentence of caning forbidden in certain cases 325.—(1) The following persons shall not be punished with caning:\\n\\n(a) women;\\n\\nInformal Consolidation – version in force from 26/6/2023\\n\\n2020 Ed.\\n\\nCriminal Procedure Code 2010\\n\\n286\\n\\n(b) men who are more than 50 years of age at the time of\\n\\ninfliction of the caning;', metadata={'source': '/content/criminal_procedure_code.pdf'}),\n",
              " Document(page_content='Sentence in case of conviction for several offences at one trial 306.—(1) Where a person is convicted at one trial of any 2 or more distinct offences, the court must sentence the person for those offences to the punishments that it is competent to impose.\\n\\n(2) Subject\\n\\nto section 307 and subsection (4), where these punishments consist of imprisonment, they are to run consecutively in the order that the court directs, or they may run concurrently if the court so directs.\\n\\n(3) The court need not send the offender for trial before a higher court merely because the combined punishment for the various offences exceeds the punishment which the court is competent to inflict for a single offence.\\n\\nInformal Consolidation – version in force from 26/6/2023\\n\\n273 Criminal Procedure Code 2010 2020 Ed. (4) Subject to any written law, a Magistrate’s Court or District Court may not impose a total term of imprisonment that exceeds twice that which such court is competent to impose under section 303.', metadata={'source': '/content/criminal_procedure_code.pdf'})]"
            ]
          },
          "metadata": {},
          "execution_count": 27
        }
      ]
    },
    {
      "cell_type": "code",
      "source": [
        "myquery=\"Give an overview of the sections in the criminal procedure code\"\n",
        "answer = qa_chain(myquery)\n",
        "print(\"Question: \", answer['query'] + '\\n\\n')\n",
        "print(\"Answer:\", answer['result'] + '\\n\\n')\n",
        "answer['source_documents']"
      ],
      "metadata": {
        "id": "okrOQPNX4YeB",
        "outputId": "b0e5f3fa-5ca1-4e8e-e2ce-f9ce7dde246d",
        "colab": {
          "base_uri": "https://localhost:8080/",
          "height": 426
        }
      },
      "execution_count": null,
      "outputs": [
        {
          "output_type": "error",
          "ename": "ValueError",
          "evalue": "ignored",
          "traceback": [
            "\u001b[0;31m---------------------------------------------------------------------------\u001b[0m",
            "\u001b[0;31mValueError\u001b[0m                                Traceback (most recent call last)",
            "\u001b[0;32m<ipython-input-28-6f210459376a>\u001b[0m in \u001b[0;36m<cell line: 2>\u001b[0;34m()\u001b[0m\n\u001b[1;32m      1\u001b[0m \u001b[0mmyquery\u001b[0m\u001b[0;34m=\u001b[0m\u001b[0;34m\"Give an overview of the sections in the criminal procedure code\"\u001b[0m\u001b[0;34m\u001b[0m\u001b[0;34m\u001b[0m\u001b[0m\n\u001b[0;32m----> 2\u001b[0;31m \u001b[0manswer\u001b[0m \u001b[0;34m=\u001b[0m \u001b[0mqa_chain\u001b[0m\u001b[0;34m(\u001b[0m\u001b[0mmyquery\u001b[0m\u001b[0;34m)\u001b[0m\u001b[0;34m\u001b[0m\u001b[0;34m\u001b[0m\u001b[0m\n\u001b[0m\u001b[1;32m      3\u001b[0m \u001b[0mprint\u001b[0m\u001b[0;34m(\u001b[0m\u001b[0;34m\"Question: \"\u001b[0m\u001b[0;34m,\u001b[0m \u001b[0manswer\u001b[0m\u001b[0;34m[\u001b[0m\u001b[0;34m'query'\u001b[0m\u001b[0;34m]\u001b[0m \u001b[0;34m+\u001b[0m \u001b[0;34m'\\n\\n'\u001b[0m\u001b[0;34m)\u001b[0m\u001b[0;34m\u001b[0m\u001b[0;34m\u001b[0m\u001b[0m\n\u001b[1;32m      4\u001b[0m \u001b[0mprint\u001b[0m\u001b[0;34m(\u001b[0m\u001b[0;34m\"Answer:\"\u001b[0m\u001b[0;34m,\u001b[0m \u001b[0manswer\u001b[0m\u001b[0;34m[\u001b[0m\u001b[0;34m'result'\u001b[0m\u001b[0;34m]\u001b[0m \u001b[0;34m+\u001b[0m \u001b[0;34m'\\n\\n'\u001b[0m\u001b[0;34m)\u001b[0m\u001b[0;34m\u001b[0m\u001b[0;34m\u001b[0m\u001b[0m\n\u001b[1;32m      5\u001b[0m \u001b[0manswer\u001b[0m\u001b[0;34m[\u001b[0m\u001b[0;34m'source_documents'\u001b[0m\u001b[0;34m]\u001b[0m\u001b[0;34m\u001b[0m\u001b[0;34m\u001b[0m\u001b[0m\n",
            "\u001b[0;32m/usr/local/lib/python3.10/dist-packages/langchain/chains/base.py\u001b[0m in \u001b[0;36m__call__\u001b[0;34m(self, inputs, return_only_outputs, callbacks, tags, metadata, run_name, include_run_info)\u001b[0m\n\u001b[1;32m    304\u001b[0m         \u001b[0;32mexcept\u001b[0m \u001b[0mBaseException\u001b[0m \u001b[0;32mas\u001b[0m \u001b[0me\u001b[0m\u001b[0;34m:\u001b[0m\u001b[0;34m\u001b[0m\u001b[0;34m\u001b[0m\u001b[0m\n\u001b[1;32m    305\u001b[0m             \u001b[0mrun_manager\u001b[0m\u001b[0;34m.\u001b[0m\u001b[0mon_chain_error\u001b[0m\u001b[0;34m(\u001b[0m\u001b[0me\u001b[0m\u001b[0;34m)\u001b[0m\u001b[0;34m\u001b[0m\u001b[0;34m\u001b[0m\u001b[0m\n\u001b[0;32m--> 306\u001b[0;31m             \u001b[0;32mraise\u001b[0m \u001b[0me\u001b[0m\u001b[0;34m\u001b[0m\u001b[0;34m\u001b[0m\u001b[0m\n\u001b[0m\u001b[1;32m    307\u001b[0m         \u001b[0mrun_manager\u001b[0m\u001b[0;34m.\u001b[0m\u001b[0mon_chain_end\u001b[0m\u001b[0;34m(\u001b[0m\u001b[0moutputs\u001b[0m\u001b[0;34m)\u001b[0m\u001b[0;34m\u001b[0m\u001b[0;34m\u001b[0m\u001b[0m\n\u001b[1;32m    308\u001b[0m         final_outputs: Dict[str, Any] = self.prep_outputs(\n",
            "\u001b[0;32m/usr/local/lib/python3.10/dist-packages/langchain/chains/base.py\u001b[0m in \u001b[0;36m__call__\u001b[0;34m(self, inputs, return_only_outputs, callbacks, tags, metadata, run_name, include_run_info)\u001b[0m\n\u001b[1;32m    298\u001b[0m         \u001b[0;32mtry\u001b[0m\u001b[0;34m:\u001b[0m\u001b[0;34m\u001b[0m\u001b[0;34m\u001b[0m\u001b[0m\n\u001b[1;32m    299\u001b[0m             outputs = (\n\u001b[0;32m--> 300\u001b[0;31m                 \u001b[0mself\u001b[0m\u001b[0;34m.\u001b[0m\u001b[0m_call\u001b[0m\u001b[0;34m(\u001b[0m\u001b[0minputs\u001b[0m\u001b[0;34m,\u001b[0m \u001b[0mrun_manager\u001b[0m\u001b[0;34m=\u001b[0m\u001b[0mrun_manager\u001b[0m\u001b[0;34m)\u001b[0m\u001b[0;34m\u001b[0m\u001b[0;34m\u001b[0m\u001b[0m\n\u001b[0m\u001b[1;32m    301\u001b[0m                 \u001b[0;32mif\u001b[0m \u001b[0mnew_arg_supported\u001b[0m\u001b[0;34m\u001b[0m\u001b[0;34m\u001b[0m\u001b[0m\n\u001b[1;32m    302\u001b[0m                 \u001b[0;32melse\u001b[0m \u001b[0mself\u001b[0m\u001b[0;34m.\u001b[0m\u001b[0m_call\u001b[0m\u001b[0;34m(\u001b[0m\u001b[0minputs\u001b[0m\u001b[0;34m)\u001b[0m\u001b[0;34m\u001b[0m\u001b[0;34m\u001b[0m\u001b[0m\n",
            "\u001b[0;32m/usr/local/lib/python3.10/dist-packages/langchain/chains/retrieval_qa/base.py\u001b[0m in \u001b[0;36m_call\u001b[0;34m(self, inputs, run_manager)\u001b[0m\n\u001b[1;32m    137\u001b[0m         \u001b[0;32melse\u001b[0m\u001b[0;34m:\u001b[0m\u001b[0;34m\u001b[0m\u001b[0;34m\u001b[0m\u001b[0m\n\u001b[1;32m    138\u001b[0m             \u001b[0mdocs\u001b[0m \u001b[0;34m=\u001b[0m \u001b[0mself\u001b[0m\u001b[0;34m.\u001b[0m\u001b[0m_get_docs\u001b[0m\u001b[0;34m(\u001b[0m\u001b[0mquestion\u001b[0m\u001b[0;34m)\u001b[0m  \u001b[0;31m# type: ignore[call-arg]\u001b[0m\u001b[0;34m\u001b[0m\u001b[0;34m\u001b[0m\u001b[0m\n\u001b[0;32m--> 139\u001b[0;31m         answer = self.combine_documents_chain.run(\n\u001b[0m\u001b[1;32m    140\u001b[0m             \u001b[0minput_documents\u001b[0m\u001b[0;34m=\u001b[0m\u001b[0mdocs\u001b[0m\u001b[0;34m,\u001b[0m \u001b[0mquestion\u001b[0m\u001b[0;34m=\u001b[0m\u001b[0mquestion\u001b[0m\u001b[0;34m,\u001b[0m \u001b[0mcallbacks\u001b[0m\u001b[0;34m=\u001b[0m\u001b[0m_run_manager\u001b[0m\u001b[0;34m.\u001b[0m\u001b[0mget_child\u001b[0m\u001b[0;34m(\u001b[0m\u001b[0;34m)\u001b[0m\u001b[0;34m\u001b[0m\u001b[0;34m\u001b[0m\u001b[0m\n\u001b[1;32m    141\u001b[0m         )\n",
            "\u001b[0;32m/usr/local/lib/python3.10/dist-packages/langchain/chains/base.py\u001b[0m in \u001b[0;36mrun\u001b[0;34m(self, callbacks, tags, metadata, *args, **kwargs)\u001b[0m\n\u001b[1;32m    504\u001b[0m \u001b[0;34m\u001b[0m\u001b[0m\n\u001b[1;32m    505\u001b[0m         \u001b[0;32mif\u001b[0m \u001b[0mkwargs\u001b[0m \u001b[0;32mand\u001b[0m \u001b[0;32mnot\u001b[0m \u001b[0margs\u001b[0m\u001b[0;34m:\u001b[0m\u001b[0;34m\u001b[0m\u001b[0;34m\u001b[0m\u001b[0m\n\u001b[0;32m--> 506\u001b[0;31m             return self(kwargs, callbacks=callbacks, tags=tags, metadata=metadata)[\n\u001b[0m\u001b[1;32m    507\u001b[0m                 \u001b[0m_output_key\u001b[0m\u001b[0;34m\u001b[0m\u001b[0;34m\u001b[0m\u001b[0m\n\u001b[1;32m    508\u001b[0m             ]\n",
            "\u001b[0;32m/usr/local/lib/python3.10/dist-packages/langchain/chains/base.py\u001b[0m in \u001b[0;36m__call__\u001b[0;34m(self, inputs, return_only_outputs, callbacks, tags, metadata, run_name, include_run_info)\u001b[0m\n\u001b[1;32m    304\u001b[0m         \u001b[0;32mexcept\u001b[0m \u001b[0mBaseException\u001b[0m \u001b[0;32mas\u001b[0m \u001b[0me\u001b[0m\u001b[0;34m:\u001b[0m\u001b[0;34m\u001b[0m\u001b[0;34m\u001b[0m\u001b[0m\n\u001b[1;32m    305\u001b[0m             \u001b[0mrun_manager\u001b[0m\u001b[0;34m.\u001b[0m\u001b[0mon_chain_error\u001b[0m\u001b[0;34m(\u001b[0m\u001b[0me\u001b[0m\u001b[0;34m)\u001b[0m\u001b[0;34m\u001b[0m\u001b[0;34m\u001b[0m\u001b[0m\n\u001b[0;32m--> 306\u001b[0;31m             \u001b[0;32mraise\u001b[0m \u001b[0me\u001b[0m\u001b[0;34m\u001b[0m\u001b[0;34m\u001b[0m\u001b[0m\n\u001b[0m\u001b[1;32m    307\u001b[0m         \u001b[0mrun_manager\u001b[0m\u001b[0;34m.\u001b[0m\u001b[0mon_chain_end\u001b[0m\u001b[0;34m(\u001b[0m\u001b[0moutputs\u001b[0m\u001b[0;34m)\u001b[0m\u001b[0;34m\u001b[0m\u001b[0;34m\u001b[0m\u001b[0m\n\u001b[1;32m    308\u001b[0m         final_outputs: Dict[str, Any] = self.prep_outputs(\n",
            "\u001b[0;32m/usr/local/lib/python3.10/dist-packages/langchain/chains/base.py\u001b[0m in \u001b[0;36m__call__\u001b[0;34m(self, inputs, return_only_outputs, callbacks, tags, metadata, run_name, include_run_info)\u001b[0m\n\u001b[1;32m    298\u001b[0m         \u001b[0;32mtry\u001b[0m\u001b[0;34m:\u001b[0m\u001b[0;34m\u001b[0m\u001b[0;34m\u001b[0m\u001b[0m\n\u001b[1;32m    299\u001b[0m             outputs = (\n\u001b[0;32m--> 300\u001b[0;31m                 \u001b[0mself\u001b[0m\u001b[0;34m.\u001b[0m\u001b[0m_call\u001b[0m\u001b[0;34m(\u001b[0m\u001b[0minputs\u001b[0m\u001b[0;34m,\u001b[0m \u001b[0mrun_manager\u001b[0m\u001b[0;34m=\u001b[0m\u001b[0mrun_manager\u001b[0m\u001b[0;34m)\u001b[0m\u001b[0;34m\u001b[0m\u001b[0;34m\u001b[0m\u001b[0m\n\u001b[0m\u001b[1;32m    301\u001b[0m                 \u001b[0;32mif\u001b[0m \u001b[0mnew_arg_supported\u001b[0m\u001b[0;34m\u001b[0m\u001b[0;34m\u001b[0m\u001b[0m\n\u001b[1;32m    302\u001b[0m                 \u001b[0;32melse\u001b[0m \u001b[0mself\u001b[0m\u001b[0;34m.\u001b[0m\u001b[0m_call\u001b[0m\u001b[0;34m(\u001b[0m\u001b[0minputs\u001b[0m\u001b[0;34m)\u001b[0m\u001b[0;34m\u001b[0m\u001b[0;34m\u001b[0m\u001b[0m\n",
            "\u001b[0;32m/usr/local/lib/python3.10/dist-packages/langchain/chains/combine_documents/base.py\u001b[0m in \u001b[0;36m_call\u001b[0;34m(self, inputs, run_manager)\u001b[0m\n\u001b[1;32m    117\u001b[0m         \u001b[0;31m# Other keys are assumed to be needed for LLM prediction\u001b[0m\u001b[0;34m\u001b[0m\u001b[0;34m\u001b[0m\u001b[0m\n\u001b[1;32m    118\u001b[0m         \u001b[0mother_keys\u001b[0m \u001b[0;34m=\u001b[0m \u001b[0;34m{\u001b[0m\u001b[0mk\u001b[0m\u001b[0;34m:\u001b[0m \u001b[0mv\u001b[0m \u001b[0;32mfor\u001b[0m \u001b[0mk\u001b[0m\u001b[0;34m,\u001b[0m \u001b[0mv\u001b[0m \u001b[0;32min\u001b[0m \u001b[0minputs\u001b[0m\u001b[0;34m.\u001b[0m\u001b[0mitems\u001b[0m\u001b[0;34m(\u001b[0m\u001b[0;34m)\u001b[0m \u001b[0;32mif\u001b[0m \u001b[0mk\u001b[0m \u001b[0;34m!=\u001b[0m \u001b[0mself\u001b[0m\u001b[0;34m.\u001b[0m\u001b[0minput_key\u001b[0m\u001b[0;34m}\u001b[0m\u001b[0;34m\u001b[0m\u001b[0;34m\u001b[0m\u001b[0m\n\u001b[0;32m--> 119\u001b[0;31m         output, extra_return_dict = self.combine_docs(\n\u001b[0m\u001b[1;32m    120\u001b[0m             \u001b[0mdocs\u001b[0m\u001b[0;34m,\u001b[0m \u001b[0mcallbacks\u001b[0m\u001b[0;34m=\u001b[0m\u001b[0m_run_manager\u001b[0m\u001b[0;34m.\u001b[0m\u001b[0mget_child\u001b[0m\u001b[0;34m(\u001b[0m\u001b[0;34m)\u001b[0m\u001b[0;34m,\u001b[0m \u001b[0;34m**\u001b[0m\u001b[0mother_keys\u001b[0m\u001b[0;34m\u001b[0m\u001b[0;34m\u001b[0m\u001b[0m\n\u001b[1;32m    121\u001b[0m         )\n",
            "\u001b[0;32m/usr/local/lib/python3.10/dist-packages/langchain/chains/combine_documents/stuff.py\u001b[0m in \u001b[0;36mcombine_docs\u001b[0;34m(self, docs, callbacks, **kwargs)\u001b[0m\n\u001b[1;32m    169\u001b[0m         \u001b[0minputs\u001b[0m \u001b[0;34m=\u001b[0m \u001b[0mself\u001b[0m\u001b[0;34m.\u001b[0m\u001b[0m_get_inputs\u001b[0m\u001b[0;34m(\u001b[0m\u001b[0mdocs\u001b[0m\u001b[0;34m,\u001b[0m \u001b[0;34m**\u001b[0m\u001b[0mkwargs\u001b[0m\u001b[0;34m)\u001b[0m\u001b[0;34m\u001b[0m\u001b[0;34m\u001b[0m\u001b[0m\n\u001b[1;32m    170\u001b[0m         \u001b[0;31m# Call predict on the LLM.\u001b[0m\u001b[0;34m\u001b[0m\u001b[0;34m\u001b[0m\u001b[0m\n\u001b[0;32m--> 171\u001b[0;31m         \u001b[0;32mreturn\u001b[0m \u001b[0mself\u001b[0m\u001b[0;34m.\u001b[0m\u001b[0mllm_chain\u001b[0m\u001b[0;34m.\u001b[0m\u001b[0mpredict\u001b[0m\u001b[0;34m(\u001b[0m\u001b[0mcallbacks\u001b[0m\u001b[0;34m=\u001b[0m\u001b[0mcallbacks\u001b[0m\u001b[0;34m,\u001b[0m \u001b[0;34m**\u001b[0m\u001b[0minputs\u001b[0m\u001b[0;34m)\u001b[0m\u001b[0;34m,\u001b[0m \u001b[0;34m{\u001b[0m\u001b[0;34m}\u001b[0m\u001b[0;34m\u001b[0m\u001b[0;34m\u001b[0m\u001b[0m\n\u001b[0m\u001b[1;32m    172\u001b[0m \u001b[0;34m\u001b[0m\u001b[0m\n\u001b[1;32m    173\u001b[0m     async def acombine_docs(\n",
            "\u001b[0;32m/usr/local/lib/python3.10/dist-packages/langchain/chains/llm.py\u001b[0m in \u001b[0;36mpredict\u001b[0;34m(self, callbacks, **kwargs)\u001b[0m\n\u001b[1;32m    255\u001b[0m                 \u001b[0mcompletion\u001b[0m \u001b[0;34m=\u001b[0m \u001b[0mllm\u001b[0m\u001b[0;34m.\u001b[0m\u001b[0mpredict\u001b[0m\u001b[0;34m(\u001b[0m\u001b[0madjective\u001b[0m\u001b[0;34m=\u001b[0m\u001b[0;34m\"funny\"\u001b[0m\u001b[0;34m)\u001b[0m\u001b[0;34m\u001b[0m\u001b[0;34m\u001b[0m\u001b[0m\n\u001b[1;32m    256\u001b[0m         \"\"\"\n\u001b[0;32m--> 257\u001b[0;31m         \u001b[0;32mreturn\u001b[0m \u001b[0mself\u001b[0m\u001b[0;34m(\u001b[0m\u001b[0mkwargs\u001b[0m\u001b[0;34m,\u001b[0m \u001b[0mcallbacks\u001b[0m\u001b[0;34m=\u001b[0m\u001b[0mcallbacks\u001b[0m\u001b[0;34m)\u001b[0m\u001b[0;34m[\u001b[0m\u001b[0mself\u001b[0m\u001b[0;34m.\u001b[0m\u001b[0moutput_key\u001b[0m\u001b[0;34m]\u001b[0m\u001b[0;34m\u001b[0m\u001b[0;34m\u001b[0m\u001b[0m\n\u001b[0m\u001b[1;32m    258\u001b[0m \u001b[0;34m\u001b[0m\u001b[0m\n\u001b[1;32m    259\u001b[0m     \u001b[0;32masync\u001b[0m \u001b[0;32mdef\u001b[0m \u001b[0mapredict\u001b[0m\u001b[0;34m(\u001b[0m\u001b[0mself\u001b[0m\u001b[0;34m,\u001b[0m \u001b[0mcallbacks\u001b[0m\u001b[0;34m:\u001b[0m \u001b[0mCallbacks\u001b[0m \u001b[0;34m=\u001b[0m \u001b[0;32mNone\u001b[0m\u001b[0;34m,\u001b[0m \u001b[0;34m**\u001b[0m\u001b[0mkwargs\u001b[0m\u001b[0;34m:\u001b[0m \u001b[0mAny\u001b[0m\u001b[0;34m)\u001b[0m \u001b[0;34m->\u001b[0m \u001b[0mstr\u001b[0m\u001b[0;34m:\u001b[0m\u001b[0;34m\u001b[0m\u001b[0;34m\u001b[0m\u001b[0m\n",
            "\u001b[0;32m/usr/local/lib/python3.10/dist-packages/langchain/chains/base.py\u001b[0m in \u001b[0;36m__call__\u001b[0;34m(self, inputs, return_only_outputs, callbacks, tags, metadata, run_name, include_run_info)\u001b[0m\n\u001b[1;32m    304\u001b[0m         \u001b[0;32mexcept\u001b[0m \u001b[0mBaseException\u001b[0m \u001b[0;32mas\u001b[0m \u001b[0me\u001b[0m\u001b[0;34m:\u001b[0m\u001b[0;34m\u001b[0m\u001b[0;34m\u001b[0m\u001b[0m\n\u001b[1;32m    305\u001b[0m             \u001b[0mrun_manager\u001b[0m\u001b[0;34m.\u001b[0m\u001b[0mon_chain_error\u001b[0m\u001b[0;34m(\u001b[0m\u001b[0me\u001b[0m\u001b[0;34m)\u001b[0m\u001b[0;34m\u001b[0m\u001b[0;34m\u001b[0m\u001b[0m\n\u001b[0;32m--> 306\u001b[0;31m             \u001b[0;32mraise\u001b[0m \u001b[0me\u001b[0m\u001b[0;34m\u001b[0m\u001b[0;34m\u001b[0m\u001b[0m\n\u001b[0m\u001b[1;32m    307\u001b[0m         \u001b[0mrun_manager\u001b[0m\u001b[0;34m.\u001b[0m\u001b[0mon_chain_end\u001b[0m\u001b[0;34m(\u001b[0m\u001b[0moutputs\u001b[0m\u001b[0;34m)\u001b[0m\u001b[0;34m\u001b[0m\u001b[0;34m\u001b[0m\u001b[0m\n\u001b[1;32m    308\u001b[0m         final_outputs: Dict[str, Any] = self.prep_outputs(\n",
            "\u001b[0;32m/usr/local/lib/python3.10/dist-packages/langchain/chains/base.py\u001b[0m in \u001b[0;36m__call__\u001b[0;34m(self, inputs, return_only_outputs, callbacks, tags, metadata, run_name, include_run_info)\u001b[0m\n\u001b[1;32m    298\u001b[0m         \u001b[0;32mtry\u001b[0m\u001b[0;34m:\u001b[0m\u001b[0;34m\u001b[0m\u001b[0;34m\u001b[0m\u001b[0m\n\u001b[1;32m    299\u001b[0m             outputs = (\n\u001b[0;32m--> 300\u001b[0;31m                 \u001b[0mself\u001b[0m\u001b[0;34m.\u001b[0m\u001b[0m_call\u001b[0m\u001b[0;34m(\u001b[0m\u001b[0minputs\u001b[0m\u001b[0;34m,\u001b[0m \u001b[0mrun_manager\u001b[0m\u001b[0;34m=\u001b[0m\u001b[0mrun_manager\u001b[0m\u001b[0;34m)\u001b[0m\u001b[0;34m\u001b[0m\u001b[0;34m\u001b[0m\u001b[0m\n\u001b[0m\u001b[1;32m    301\u001b[0m                 \u001b[0;32mif\u001b[0m \u001b[0mnew_arg_supported\u001b[0m\u001b[0;34m\u001b[0m\u001b[0;34m\u001b[0m\u001b[0m\n\u001b[1;32m    302\u001b[0m                 \u001b[0;32melse\u001b[0m \u001b[0mself\u001b[0m\u001b[0;34m.\u001b[0m\u001b[0m_call\u001b[0m\u001b[0;34m(\u001b[0m\u001b[0minputs\u001b[0m\u001b[0;34m)\u001b[0m\u001b[0;34m\u001b[0m\u001b[0;34m\u001b[0m\u001b[0m\n",
            "\u001b[0;32m/usr/local/lib/python3.10/dist-packages/langchain/chains/llm.py\u001b[0m in \u001b[0;36m_call\u001b[0;34m(self, inputs, run_manager)\u001b[0m\n\u001b[1;32m     91\u001b[0m         \u001b[0mrun_manager\u001b[0m\u001b[0;34m:\u001b[0m \u001b[0mOptional\u001b[0m\u001b[0;34m[\u001b[0m\u001b[0mCallbackManagerForChainRun\u001b[0m\u001b[0;34m]\u001b[0m \u001b[0;34m=\u001b[0m \u001b[0;32mNone\u001b[0m\u001b[0;34m,\u001b[0m\u001b[0;34m\u001b[0m\u001b[0;34m\u001b[0m\u001b[0m\n\u001b[1;32m     92\u001b[0m     ) -> Dict[str, str]:\n\u001b[0;32m---> 93\u001b[0;31m         \u001b[0mresponse\u001b[0m \u001b[0;34m=\u001b[0m \u001b[0mself\u001b[0m\u001b[0;34m.\u001b[0m\u001b[0mgenerate\u001b[0m\u001b[0;34m(\u001b[0m\u001b[0;34m[\u001b[0m\u001b[0minputs\u001b[0m\u001b[0;34m]\u001b[0m\u001b[0;34m,\u001b[0m \u001b[0mrun_manager\u001b[0m\u001b[0;34m=\u001b[0m\u001b[0mrun_manager\u001b[0m\u001b[0;34m)\u001b[0m\u001b[0;34m\u001b[0m\u001b[0;34m\u001b[0m\u001b[0m\n\u001b[0m\u001b[1;32m     94\u001b[0m         \u001b[0;32mreturn\u001b[0m \u001b[0mself\u001b[0m\u001b[0;34m.\u001b[0m\u001b[0mcreate_outputs\u001b[0m\u001b[0;34m(\u001b[0m\u001b[0mresponse\u001b[0m\u001b[0;34m)\u001b[0m\u001b[0;34m[\u001b[0m\u001b[0;36m0\u001b[0m\u001b[0;34m]\u001b[0m\u001b[0;34m\u001b[0m\u001b[0;34m\u001b[0m\u001b[0m\n\u001b[1;32m     95\u001b[0m \u001b[0;34m\u001b[0m\u001b[0m\n",
            "\u001b[0;32m/usr/local/lib/python3.10/dist-packages/langchain/chains/llm.py\u001b[0m in \u001b[0;36mgenerate\u001b[0;34m(self, input_list, run_manager)\u001b[0m\n\u001b[1;32m    101\u001b[0m         \u001b[0;34m\"\"\"Generate LLM result from inputs.\"\"\"\u001b[0m\u001b[0;34m\u001b[0m\u001b[0;34m\u001b[0m\u001b[0m\n\u001b[1;32m    102\u001b[0m         \u001b[0mprompts\u001b[0m\u001b[0;34m,\u001b[0m \u001b[0mstop\u001b[0m \u001b[0;34m=\u001b[0m \u001b[0mself\u001b[0m\u001b[0;34m.\u001b[0m\u001b[0mprep_prompts\u001b[0m\u001b[0;34m(\u001b[0m\u001b[0minput_list\u001b[0m\u001b[0;34m,\u001b[0m \u001b[0mrun_manager\u001b[0m\u001b[0;34m=\u001b[0m\u001b[0mrun_manager\u001b[0m\u001b[0;34m)\u001b[0m\u001b[0;34m\u001b[0m\u001b[0;34m\u001b[0m\u001b[0m\n\u001b[0;32m--> 103\u001b[0;31m         return self.llm.generate_prompt(\n\u001b[0m\u001b[1;32m    104\u001b[0m             \u001b[0mprompts\u001b[0m\u001b[0;34m,\u001b[0m\u001b[0;34m\u001b[0m\u001b[0;34m\u001b[0m\u001b[0m\n\u001b[1;32m    105\u001b[0m             \u001b[0mstop\u001b[0m\u001b[0;34m,\u001b[0m\u001b[0;34m\u001b[0m\u001b[0;34m\u001b[0m\u001b[0m\n",
            "\u001b[0;32m/usr/local/lib/python3.10/dist-packages/langchain/llms/base.py\u001b[0m in \u001b[0;36mgenerate_prompt\u001b[0;34m(self, prompts, stop, callbacks, **kwargs)\u001b[0m\n\u001b[1;32m    496\u001b[0m     ) -> LLMResult:\n\u001b[1;32m    497\u001b[0m         \u001b[0mprompt_strings\u001b[0m \u001b[0;34m=\u001b[0m \u001b[0;34m[\u001b[0m\u001b[0mp\u001b[0m\u001b[0;34m.\u001b[0m\u001b[0mto_string\u001b[0m\u001b[0;34m(\u001b[0m\u001b[0;34m)\u001b[0m \u001b[0;32mfor\u001b[0m \u001b[0mp\u001b[0m \u001b[0;32min\u001b[0m \u001b[0mprompts\u001b[0m\u001b[0;34m]\u001b[0m\u001b[0;34m\u001b[0m\u001b[0;34m\u001b[0m\u001b[0m\n\u001b[0;32m--> 498\u001b[0;31m         \u001b[0;32mreturn\u001b[0m \u001b[0mself\u001b[0m\u001b[0;34m.\u001b[0m\u001b[0mgenerate\u001b[0m\u001b[0;34m(\u001b[0m\u001b[0mprompt_strings\u001b[0m\u001b[0;34m,\u001b[0m \u001b[0mstop\u001b[0m\u001b[0;34m=\u001b[0m\u001b[0mstop\u001b[0m\u001b[0;34m,\u001b[0m \u001b[0mcallbacks\u001b[0m\u001b[0;34m=\u001b[0m\u001b[0mcallbacks\u001b[0m\u001b[0;34m,\u001b[0m \u001b[0;34m**\u001b[0m\u001b[0mkwargs\u001b[0m\u001b[0;34m)\u001b[0m\u001b[0;34m\u001b[0m\u001b[0;34m\u001b[0m\u001b[0m\n\u001b[0m\u001b[1;32m    499\u001b[0m \u001b[0;34m\u001b[0m\u001b[0m\n\u001b[1;32m    500\u001b[0m     async def agenerate_prompt(\n",
            "\u001b[0;32m/usr/local/lib/python3.10/dist-packages/langchain/llms/base.py\u001b[0m in \u001b[0;36mgenerate\u001b[0;34m(self, prompts, stop, callbacks, tags, metadata, run_name, **kwargs)\u001b[0m\n\u001b[1;32m    645\u001b[0m                 )\n\u001b[1;32m    646\u001b[0m             ]\n\u001b[0;32m--> 647\u001b[0;31m             output = self._generate_helper(\n\u001b[0m\u001b[1;32m    648\u001b[0m                 \u001b[0mprompts\u001b[0m\u001b[0;34m,\u001b[0m \u001b[0mstop\u001b[0m\u001b[0;34m,\u001b[0m \u001b[0mrun_managers\u001b[0m\u001b[0;34m,\u001b[0m \u001b[0mbool\u001b[0m\u001b[0;34m(\u001b[0m\u001b[0mnew_arg_supported\u001b[0m\u001b[0;34m)\u001b[0m\u001b[0;34m,\u001b[0m \u001b[0;34m**\u001b[0m\u001b[0mkwargs\u001b[0m\u001b[0;34m\u001b[0m\u001b[0;34m\u001b[0m\u001b[0m\n\u001b[1;32m    649\u001b[0m             )\n",
            "\u001b[0;32m/usr/local/lib/python3.10/dist-packages/langchain/llms/base.py\u001b[0m in \u001b[0;36m_generate_helper\u001b[0;34m(self, prompts, stop, run_managers, new_arg_supported, **kwargs)\u001b[0m\n\u001b[1;32m    533\u001b[0m             \u001b[0;32mfor\u001b[0m \u001b[0mrun_manager\u001b[0m \u001b[0;32min\u001b[0m \u001b[0mrun_managers\u001b[0m\u001b[0;34m:\u001b[0m\u001b[0;34m\u001b[0m\u001b[0;34m\u001b[0m\u001b[0m\n\u001b[1;32m    534\u001b[0m                 \u001b[0mrun_manager\u001b[0m\u001b[0;34m.\u001b[0m\u001b[0mon_llm_error\u001b[0m\u001b[0;34m(\u001b[0m\u001b[0me\u001b[0m\u001b[0;34m)\u001b[0m\u001b[0;34m\u001b[0m\u001b[0;34m\u001b[0m\u001b[0m\n\u001b[0;32m--> 535\u001b[0;31m             \u001b[0;32mraise\u001b[0m \u001b[0me\u001b[0m\u001b[0;34m\u001b[0m\u001b[0;34m\u001b[0m\u001b[0m\n\u001b[0m\u001b[1;32m    536\u001b[0m         \u001b[0mflattened_outputs\u001b[0m \u001b[0;34m=\u001b[0m \u001b[0moutput\u001b[0m\u001b[0;34m.\u001b[0m\u001b[0mflatten\u001b[0m\u001b[0;34m(\u001b[0m\u001b[0;34m)\u001b[0m\u001b[0;34m\u001b[0m\u001b[0;34m\u001b[0m\u001b[0m\n\u001b[1;32m    537\u001b[0m         \u001b[0;32mfor\u001b[0m \u001b[0mmanager\u001b[0m\u001b[0;34m,\u001b[0m \u001b[0mflattened_output\u001b[0m \u001b[0;32min\u001b[0m \u001b[0mzip\u001b[0m\u001b[0;34m(\u001b[0m\u001b[0mrun_managers\u001b[0m\u001b[0;34m,\u001b[0m \u001b[0mflattened_outputs\u001b[0m\u001b[0;34m)\u001b[0m\u001b[0;34m:\u001b[0m\u001b[0;34m\u001b[0m\u001b[0;34m\u001b[0m\u001b[0m\n",
            "\u001b[0;32m/usr/local/lib/python3.10/dist-packages/langchain/llms/base.py\u001b[0m in \u001b[0;36m_generate_helper\u001b[0;34m(self, prompts, stop, run_managers, new_arg_supported, **kwargs)\u001b[0m\n\u001b[1;32m    520\u001b[0m         \u001b[0;32mtry\u001b[0m\u001b[0;34m:\u001b[0m\u001b[0;34m\u001b[0m\u001b[0;34m\u001b[0m\u001b[0m\n\u001b[1;32m    521\u001b[0m             output = (\n\u001b[0;32m--> 522\u001b[0;31m                 self._generate(\n\u001b[0m\u001b[1;32m    523\u001b[0m                     \u001b[0mprompts\u001b[0m\u001b[0;34m,\u001b[0m\u001b[0;34m\u001b[0m\u001b[0;34m\u001b[0m\u001b[0m\n\u001b[1;32m    524\u001b[0m                     \u001b[0mstop\u001b[0m\u001b[0;34m=\u001b[0m\u001b[0mstop\u001b[0m\u001b[0;34m,\u001b[0m\u001b[0;34m\u001b[0m\u001b[0;34m\u001b[0m\u001b[0m\n",
            "\u001b[0;32m/usr/local/lib/python3.10/dist-packages/langchain/llms/base.py\u001b[0m in \u001b[0;36m_generate\u001b[0;34m(self, prompts, stop, run_manager, **kwargs)\u001b[0m\n\u001b[1;32m   1042\u001b[0m         \u001b[0;32mfor\u001b[0m \u001b[0mprompt\u001b[0m \u001b[0;32min\u001b[0m \u001b[0mprompts\u001b[0m\u001b[0;34m:\u001b[0m\u001b[0;34m\u001b[0m\u001b[0;34m\u001b[0m\u001b[0m\n\u001b[1;32m   1043\u001b[0m             text = (\n\u001b[0;32m-> 1044\u001b[0;31m                 \u001b[0mself\u001b[0m\u001b[0;34m.\u001b[0m\u001b[0m_call\u001b[0m\u001b[0;34m(\u001b[0m\u001b[0mprompt\u001b[0m\u001b[0;34m,\u001b[0m \u001b[0mstop\u001b[0m\u001b[0;34m=\u001b[0m\u001b[0mstop\u001b[0m\u001b[0;34m,\u001b[0m \u001b[0mrun_manager\u001b[0m\u001b[0;34m=\u001b[0m\u001b[0mrun_manager\u001b[0m\u001b[0;34m,\u001b[0m \u001b[0;34m**\u001b[0m\u001b[0mkwargs\u001b[0m\u001b[0;34m)\u001b[0m\u001b[0;34m\u001b[0m\u001b[0;34m\u001b[0m\u001b[0m\n\u001b[0m\u001b[1;32m   1045\u001b[0m                 \u001b[0;32mif\u001b[0m \u001b[0mnew_arg_supported\u001b[0m\u001b[0;34m\u001b[0m\u001b[0;34m\u001b[0m\u001b[0m\n\u001b[1;32m   1046\u001b[0m                 \u001b[0;32melse\u001b[0m \u001b[0mself\u001b[0m\u001b[0;34m.\u001b[0m\u001b[0m_call\u001b[0m\u001b[0;34m(\u001b[0m\u001b[0mprompt\u001b[0m\u001b[0;34m,\u001b[0m \u001b[0mstop\u001b[0m\u001b[0;34m=\u001b[0m\u001b[0mstop\u001b[0m\u001b[0;34m,\u001b[0m \u001b[0;34m**\u001b[0m\u001b[0mkwargs\u001b[0m\u001b[0;34m)\u001b[0m\u001b[0;34m\u001b[0m\u001b[0;34m\u001b[0m\u001b[0m\n",
            "\u001b[0;32m/usr/local/lib/python3.10/dist-packages/langchain/llms/llamacpp.py\u001b[0m in \u001b[0;36m_call\u001b[0;34m(self, prompt, stop, run_manager, **kwargs)\u001b[0m\n\u001b[1;32m    289\u001b[0m             \u001b[0;31m# and return the combined strings from the first choices's text:\u001b[0m\u001b[0;34m\u001b[0m\u001b[0;34m\u001b[0m\u001b[0m\n\u001b[1;32m    290\u001b[0m             \u001b[0mcombined_text_output\u001b[0m \u001b[0;34m=\u001b[0m \u001b[0;34m\"\"\u001b[0m\u001b[0;34m\u001b[0m\u001b[0;34m\u001b[0m\u001b[0m\n\u001b[0;32m--> 291\u001b[0;31m             for chunk in self._stream(\n\u001b[0m\u001b[1;32m    292\u001b[0m                 \u001b[0mprompt\u001b[0m\u001b[0;34m=\u001b[0m\u001b[0mprompt\u001b[0m\u001b[0;34m,\u001b[0m\u001b[0;34m\u001b[0m\u001b[0;34m\u001b[0m\u001b[0m\n\u001b[1;32m    293\u001b[0m                 \u001b[0mstop\u001b[0m\u001b[0;34m=\u001b[0m\u001b[0mstop\u001b[0m\u001b[0;34m,\u001b[0m\u001b[0;34m\u001b[0m\u001b[0;34m\u001b[0m\u001b[0m\n",
            "\u001b[0;32m/usr/local/lib/python3.10/dist-packages/langchain/llms/llamacpp.py\u001b[0m in \u001b[0;36m_stream\u001b[0;34m(self, prompt, stop, run_manager, **kwargs)\u001b[0m\n\u001b[1;32m    342\u001b[0m         \u001b[0mparams\u001b[0m \u001b[0;34m=\u001b[0m \u001b[0;34m{\u001b[0m\u001b[0;34m**\u001b[0m\u001b[0mself\u001b[0m\u001b[0;34m.\u001b[0m\u001b[0m_get_parameters\u001b[0m\u001b[0;34m(\u001b[0m\u001b[0mstop\u001b[0m\u001b[0;34m)\u001b[0m\u001b[0;34m,\u001b[0m \u001b[0;34m**\u001b[0m\u001b[0mkwargs\u001b[0m\u001b[0;34m}\u001b[0m\u001b[0;34m\u001b[0m\u001b[0;34m\u001b[0m\u001b[0m\n\u001b[1;32m    343\u001b[0m         \u001b[0mresult\u001b[0m \u001b[0;34m=\u001b[0m \u001b[0mself\u001b[0m\u001b[0;34m.\u001b[0m\u001b[0mclient\u001b[0m\u001b[0;34m(\u001b[0m\u001b[0mprompt\u001b[0m\u001b[0;34m=\u001b[0m\u001b[0mprompt\u001b[0m\u001b[0;34m,\u001b[0m \u001b[0mstream\u001b[0m\u001b[0;34m=\u001b[0m\u001b[0;32mTrue\u001b[0m\u001b[0;34m,\u001b[0m \u001b[0;34m**\u001b[0m\u001b[0mparams\u001b[0m\u001b[0;34m)\u001b[0m\u001b[0;34m\u001b[0m\u001b[0;34m\u001b[0m\u001b[0m\n\u001b[0;32m--> 344\u001b[0;31m         \u001b[0;32mfor\u001b[0m \u001b[0mpart\u001b[0m \u001b[0;32min\u001b[0m \u001b[0mresult\u001b[0m\u001b[0;34m:\u001b[0m\u001b[0;34m\u001b[0m\u001b[0;34m\u001b[0m\u001b[0m\n\u001b[0m\u001b[1;32m    345\u001b[0m             \u001b[0mlogprobs\u001b[0m \u001b[0;34m=\u001b[0m \u001b[0mpart\u001b[0m\u001b[0;34m[\u001b[0m\u001b[0;34m\"choices\"\u001b[0m\u001b[0;34m]\u001b[0m\u001b[0;34m[\u001b[0m\u001b[0;36m0\u001b[0m\u001b[0;34m]\u001b[0m\u001b[0;34m.\u001b[0m\u001b[0mget\u001b[0m\u001b[0;34m(\u001b[0m\u001b[0;34m\"logprobs\"\u001b[0m\u001b[0;34m,\u001b[0m \u001b[0;32mNone\u001b[0m\u001b[0;34m)\u001b[0m\u001b[0;34m\u001b[0m\u001b[0;34m\u001b[0m\u001b[0m\n\u001b[1;32m    346\u001b[0m             chunk = GenerationChunk(\n",
            "\u001b[0;32m/usr/local/lib/python3.10/dist-packages/llama_cpp/llama.py\u001b[0m in \u001b[0;36m_create_completion\u001b[0;34m(self, prompt, suffix, max_tokens, temperature, top_p, logprobs, echo, stop, frequency_penalty, presence_penalty, repeat_penalty, top_k, stream, tfs_z, mirostat_mode, mirostat_tau, mirostat_eta, model, stopping_criteria, logits_processor, grammar)\u001b[0m\n\u001b[1;32m    945\u001b[0m \u001b[0;34m\u001b[0m\u001b[0m\n\u001b[1;32m    946\u001b[0m         \u001b[0;32mif\u001b[0m \u001b[0mlen\u001b[0m\u001b[0;34m(\u001b[0m\u001b[0mprompt_tokens\u001b[0m\u001b[0;34m)\u001b[0m \u001b[0;34m>=\u001b[0m \u001b[0mllama_cpp\u001b[0m\u001b[0;34m.\u001b[0m\u001b[0mllama_n_ctx\u001b[0m\u001b[0;34m(\u001b[0m\u001b[0mself\u001b[0m\u001b[0;34m.\u001b[0m\u001b[0mctx\u001b[0m\u001b[0;34m)\u001b[0m\u001b[0;34m:\u001b[0m\u001b[0;34m\u001b[0m\u001b[0;34m\u001b[0m\u001b[0m\n\u001b[0;32m--> 947\u001b[0;31m             raise ValueError(\n\u001b[0m\u001b[1;32m    948\u001b[0m                 \u001b[0;34mf\"Requested tokens ({len(prompt_tokens)}) exceed context window of {llama_cpp.llama_n_ctx(self.ctx)}\"\u001b[0m\u001b[0;34m\u001b[0m\u001b[0;34m\u001b[0m\u001b[0m\n\u001b[1;32m    949\u001b[0m             )\n",
            "\u001b[0;31mValueError\u001b[0m: Requested tokens (4579) exceed context window of 4096"
          ]
        }
      ]
    }
  ]
}